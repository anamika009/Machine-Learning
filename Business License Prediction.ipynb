{
 "cells": [
  {
   "cell_type": "code",
   "execution_count": 1,
   "metadata": {},
   "outputs": [],
   "source": [
    "#Importing libraries\n",
    "\n",
    "import pandas as pd\n",
    "import numpy as np\n",
    "import matplotlib.pyplot as plt\n",
    "import seaborn as sns\n",
    "from sklearn.preprocessing import LabelEncoder\n",
    "from sklearn.model_selection import train_test_split\n",
    "from sklearn import metrics\n",
    "from sklearn.model_selection import GridSearchCV, RandomizedSearchCV\n",
    "from sklearn.model_selection import StratifiedKFold\n",
    "from sklearn.model_selection import train_test_split\n",
    "from sklearn.metrics import precision_score, recall_score, f1_score, roc_auc_score, accuracy_score, classification_report\n",
    "from datetime import datetime"
   ]
  },
  {
   "cell_type": "code",
   "execution_count": 2,
   "metadata": {},
   "outputs": [
    {
     "name": "stderr",
     "output_type": "stream",
     "text": [
      "C:\\Users\\HP\\anaconda3\\lib\\site-packages\\IPython\\core\\interactiveshell.py:3146: DtypeWarning: Columns (9) have mixed types.Specify dtype option on import or set low_memory=False.\n",
      "  has_raised = await self.run_ast_nodes(code_ast.body, cell_name,\n"
     ]
    }
   ],
   "source": [
    "df_train = pd.read_csv(\"C:\\\\Users\\HP\\\\Downloads\\\\train_file.csv\")\n",
    "df_test = pd.read_csv(\"C:\\\\Users\\HP\\\\Downloads\\\\test_file.csv\")"
   ]
  },
  {
   "cell_type": "code",
   "execution_count": 3,
   "metadata": {},
   "outputs": [
    {
     "data": {
      "text/html": [
       "<div>\n",
       "<style scoped>\n",
       "    .dataframe tbody tr th:only-of-type {\n",
       "        vertical-align: middle;\n",
       "    }\n",
       "\n",
       "    .dataframe tbody tr th {\n",
       "        vertical-align: top;\n",
       "    }\n",
       "\n",
       "    .dataframe thead th {\n",
       "        text-align: right;\n",
       "    }\n",
       "</style>\n",
       "<table border=\"1\" class=\"dataframe\">\n",
       "  <thead>\n",
       "    <tr style=\"text-align: right;\">\n",
       "      <th></th>\n",
       "      <th>ID</th>\n",
       "      <th>LICENSE ID</th>\n",
       "      <th>ACCOUNT NUMBER</th>\n",
       "      <th>SITE NUMBER</th>\n",
       "      <th>LEGAL NAME</th>\n",
       "      <th>DOING BUSINESS AS NAME</th>\n",
       "      <th>ADDRESS</th>\n",
       "      <th>CITY</th>\n",
       "      <th>STATE</th>\n",
       "      <th>ZIP CODE</th>\n",
       "      <th>...</th>\n",
       "      <th>LICENSE TERM START DATE</th>\n",
       "      <th>LICENSE TERM EXPIRATION DATE</th>\n",
       "      <th>LICENSE APPROVED FOR ISSUANCE</th>\n",
       "      <th>DATE ISSUED</th>\n",
       "      <th>LICENSE STATUS CHANGE DATE</th>\n",
       "      <th>SSA</th>\n",
       "      <th>LATITUDE</th>\n",
       "      <th>LONGITUDE</th>\n",
       "      <th>LOCATION</th>\n",
       "      <th>LICENSE STATUS</th>\n",
       "    </tr>\n",
       "  </thead>\n",
       "  <tbody>\n",
       "    <tr>\n",
       "      <th>0</th>\n",
       "      <td>35342-20020816</td>\n",
       "      <td>1256593</td>\n",
       "      <td>32811</td>\n",
       "      <td>1</td>\n",
       "      <td>CARMEN CAHUE</td>\n",
       "      <td>CLAUDIA'S BRIDAL SHOP</td>\n",
       "      <td>2625 S CENTRAL PARK AVE  1</td>\n",
       "      <td>CHICAGO</td>\n",
       "      <td>IL</td>\n",
       "      <td>60623.0</td>\n",
       "      <td>...</td>\n",
       "      <td>2002-08-16T00:00:00</td>\n",
       "      <td>2003-08-15T00:00:00</td>\n",
       "      <td>2002-08-21T00:00:00</td>\n",
       "      <td>2006-04-11T00:00:00</td>\n",
       "      <td>NaN</td>\n",
       "      <td>25.0</td>\n",
       "      <td>41.843613</td>\n",
       "      <td>-87.714618</td>\n",
       "      <td>{'latitude': '41.843612879431845', 'longitude'...</td>\n",
       "      <td>AAI</td>\n",
       "    </tr>\n",
       "    <tr>\n",
       "      <th>1</th>\n",
       "      <td>1358463-20051116</td>\n",
       "      <td>1639294</td>\n",
       "      <td>262311</td>\n",
       "      <td>29</td>\n",
       "      <td>ISLA TROPICAL, INC.</td>\n",
       "      <td>ISLA TROPICAL</td>\n",
       "      <td>2825 W MONTROSE AVE</td>\n",
       "      <td>CHICAGO</td>\n",
       "      <td>IL</td>\n",
       "      <td>60618</td>\n",
       "      <td>...</td>\n",
       "      <td>2005-11-16T00:00:00</td>\n",
       "      <td>2006-11-15T00:00:00</td>\n",
       "      <td>2006-04-05T00:00:00</td>\n",
       "      <td>2006-06-12T00:00:00</td>\n",
       "      <td>2006-06-15T00:00:00</td>\n",
       "      <td>60.0</td>\n",
       "      <td>41.961132</td>\n",
       "      <td>-87.699626</td>\n",
       "      <td>{'latitude': '41.96113244107215', 'longitude':...</td>\n",
       "      <td>AAC</td>\n",
       "    </tr>\n",
       "    <tr>\n",
       "      <th>2</th>\n",
       "      <td>1980233-20090722</td>\n",
       "      <td>1980233</td>\n",
       "      <td>345008</td>\n",
       "      <td>1</td>\n",
       "      <td>DJS REMODELING</td>\n",
       "      <td>DJS REMODELING, INC.</td>\n",
       "      <td>1605  CLAVEY RD 1</td>\n",
       "      <td>HIGHLAND</td>\n",
       "      <td>IL</td>\n",
       "      <td>60035</td>\n",
       "      <td>...</td>\n",
       "      <td>2009-07-22T00:00:00</td>\n",
       "      <td>2011-07-15T00:00:00</td>\n",
       "      <td>2009-07-22T00:00:00</td>\n",
       "      <td>2009-07-22T00:00:00</td>\n",
       "      <td>NaN</td>\n",
       "      <td>NaN</td>\n",
       "      <td>NaN</td>\n",
       "      <td>NaN</td>\n",
       "      <td>NaN</td>\n",
       "      <td>AAI</td>\n",
       "    </tr>\n",
       "    <tr>\n",
       "      <th>3</th>\n",
       "      <td>1476582-20040211</td>\n",
       "      <td>1476582</td>\n",
       "      <td>273121</td>\n",
       "      <td>1</td>\n",
       "      <td>ALL-BRY CONSTRUCTION CO.</td>\n",
       "      <td>ALL-BRY CONSTRUCTION CO.</td>\n",
       "      <td>8  NORTH TRAIL</td>\n",
       "      <td>LEMONT</td>\n",
       "      <td>IL</td>\n",
       "      <td>60439</td>\n",
       "      <td>...</td>\n",
       "      <td>2004-02-11T00:00:00</td>\n",
       "      <td>2005-02-15T00:00:00</td>\n",
       "      <td>2004-02-10T00:00:00</td>\n",
       "      <td>2004-02-11T00:00:00</td>\n",
       "      <td>NaN</td>\n",
       "      <td>NaN</td>\n",
       "      <td>NaN</td>\n",
       "      <td>NaN</td>\n",
       "      <td>NaN</td>\n",
       "      <td>AAI</td>\n",
       "    </tr>\n",
       "    <tr>\n",
       "      <th>4</th>\n",
       "      <td>1141408-20080516</td>\n",
       "      <td>1896750</td>\n",
       "      <td>213785</td>\n",
       "      <td>1</td>\n",
       "      <td>MCDONOUGH MECHANICAL SERVICE</td>\n",
       "      <td>MCDONOUGH MECHANICAL SERVICE</td>\n",
       "      <td>4081  JOSEPH DR</td>\n",
       "      <td>WAUKEGAN</td>\n",
       "      <td>IL</td>\n",
       "      <td>60087</td>\n",
       "      <td>...</td>\n",
       "      <td>2008-05-16T00:00:00</td>\n",
       "      <td>2010-05-15T00:00:00</td>\n",
       "      <td>2008-06-04T00:00:00</td>\n",
       "      <td>2008-06-05T00:00:00</td>\n",
       "      <td>NaN</td>\n",
       "      <td>NaN</td>\n",
       "      <td>NaN</td>\n",
       "      <td>NaN</td>\n",
       "      <td>NaN</td>\n",
       "      <td>AAI</td>\n",
       "    </tr>\n",
       "  </tbody>\n",
       "</table>\n",
       "<p>5 rows × 32 columns</p>\n",
       "</div>"
      ],
      "text/plain": [
       "                 ID  LICENSE ID  ACCOUNT NUMBER  SITE NUMBER  \\\n",
       "0    35342-20020816     1256593           32811            1   \n",
       "1  1358463-20051116     1639294          262311           29   \n",
       "2  1980233-20090722     1980233          345008            1   \n",
       "3  1476582-20040211     1476582          273121            1   \n",
       "4  1141408-20080516     1896750          213785            1   \n",
       "\n",
       "                     LEGAL NAME        DOING BUSINESS AS NAME  \\\n",
       "0                  CARMEN CAHUE         CLAUDIA'S BRIDAL SHOP   \n",
       "1           ISLA TROPICAL, INC.                 ISLA TROPICAL   \n",
       "2                DJS REMODELING          DJS REMODELING, INC.   \n",
       "3      ALL-BRY CONSTRUCTION CO.      ALL-BRY CONSTRUCTION CO.   \n",
       "4  MCDONOUGH MECHANICAL SERVICE  MCDONOUGH MECHANICAL SERVICE   \n",
       "\n",
       "                      ADDRESS      CITY STATE ZIP CODE  ...  \\\n",
       "0  2625 S CENTRAL PARK AVE  1   CHICAGO    IL  60623.0  ...   \n",
       "1         2825 W MONTROSE AVE   CHICAGO    IL    60618  ...   \n",
       "2           1605  CLAVEY RD 1  HIGHLAND    IL    60035  ...   \n",
       "3              8  NORTH TRAIL    LEMONT    IL    60439  ...   \n",
       "4             4081  JOSEPH DR  WAUKEGAN    IL    60087  ...   \n",
       "\n",
       "   LICENSE TERM START DATE  LICENSE TERM EXPIRATION DATE  \\\n",
       "0      2002-08-16T00:00:00           2003-08-15T00:00:00   \n",
       "1      2005-11-16T00:00:00           2006-11-15T00:00:00   \n",
       "2      2009-07-22T00:00:00           2011-07-15T00:00:00   \n",
       "3      2004-02-11T00:00:00           2005-02-15T00:00:00   \n",
       "4      2008-05-16T00:00:00           2010-05-15T00:00:00   \n",
       "\n",
       "  LICENSE APPROVED FOR ISSUANCE          DATE ISSUED  \\\n",
       "0           2002-08-21T00:00:00  2006-04-11T00:00:00   \n",
       "1           2006-04-05T00:00:00  2006-06-12T00:00:00   \n",
       "2           2009-07-22T00:00:00  2009-07-22T00:00:00   \n",
       "3           2004-02-10T00:00:00  2004-02-11T00:00:00   \n",
       "4           2008-06-04T00:00:00  2008-06-05T00:00:00   \n",
       "\n",
       "   LICENSE STATUS CHANGE DATE   SSA   LATITUDE  LONGITUDE  \\\n",
       "0                         NaN  25.0  41.843613 -87.714618   \n",
       "1         2006-06-15T00:00:00  60.0  41.961132 -87.699626   \n",
       "2                         NaN   NaN        NaN        NaN   \n",
       "3                         NaN   NaN        NaN        NaN   \n",
       "4                         NaN   NaN        NaN        NaN   \n",
       "\n",
       "                                            LOCATION LICENSE STATUS  \n",
       "0  {'latitude': '41.843612879431845', 'longitude'...            AAI  \n",
       "1  {'latitude': '41.96113244107215', 'longitude':...            AAC  \n",
       "2                                                NaN            AAI  \n",
       "3                                                NaN            AAI  \n",
       "4                                                NaN            AAI  \n",
       "\n",
       "[5 rows x 32 columns]"
      ]
     },
     "execution_count": 3,
     "metadata": {},
     "output_type": "execute_result"
    }
   ],
   "source": [
    "df_train.head()"
   ]
  },
  {
   "cell_type": "code",
   "execution_count": 4,
   "metadata": {},
   "outputs": [
    {
     "data": {
      "text/plain": [
       "(85895, 32)"
      ]
     },
     "execution_count": 4,
     "metadata": {},
     "output_type": "execute_result"
    }
   ],
   "source": [
    "df_train.shape"
   ]
  },
  {
   "cell_type": "code",
   "execution_count": 5,
   "metadata": {},
   "outputs": [
    {
     "data": {
      "text/html": [
       "<div>\n",
       "<style scoped>\n",
       "    .dataframe tbody tr th:only-of-type {\n",
       "        vertical-align: middle;\n",
       "    }\n",
       "\n",
       "    .dataframe tbody tr th {\n",
       "        vertical-align: top;\n",
       "    }\n",
       "\n",
       "    .dataframe thead th {\n",
       "        text-align: right;\n",
       "    }\n",
       "</style>\n",
       "<table border=\"1\" class=\"dataframe\">\n",
       "  <thead>\n",
       "    <tr style=\"text-align: right;\">\n",
       "      <th></th>\n",
       "      <th>ID</th>\n",
       "      <th>LICENSE ID</th>\n",
       "      <th>ACCOUNT NUMBER</th>\n",
       "      <th>SITE NUMBER</th>\n",
       "      <th>LEGAL NAME</th>\n",
       "      <th>DOING BUSINESS AS NAME</th>\n",
       "      <th>ADDRESS</th>\n",
       "      <th>CITY</th>\n",
       "      <th>STATE</th>\n",
       "      <th>ZIP CODE</th>\n",
       "      <th>...</th>\n",
       "      <th>CONDITIONAL APPROVAL</th>\n",
       "      <th>LICENSE TERM START DATE</th>\n",
       "      <th>LICENSE TERM EXPIRATION DATE</th>\n",
       "      <th>LICENSE APPROVED FOR ISSUANCE</th>\n",
       "      <th>DATE ISSUED</th>\n",
       "      <th>LICENSE STATUS CHANGE DATE</th>\n",
       "      <th>SSA</th>\n",
       "      <th>LATITUDE</th>\n",
       "      <th>LONGITUDE</th>\n",
       "      <th>LOCATION</th>\n",
       "    </tr>\n",
       "  </thead>\n",
       "  <tbody>\n",
       "    <tr>\n",
       "      <th>0</th>\n",
       "      <td>1516615-20120216</td>\n",
       "      <td>2132209</td>\n",
       "      <td>280120</td>\n",
       "      <td>1</td>\n",
       "      <td>RS HOMES I LLC</td>\n",
       "      <td>RS HOMES I LLC</td>\n",
       "      <td>350 W HUBBARD ST 3 300</td>\n",
       "      <td>CHICAGO</td>\n",
       "      <td>IL</td>\n",
       "      <td>60610.0</td>\n",
       "      <td>...</td>\n",
       "      <td>N</td>\n",
       "      <td>2012-02-16T00:00:00</td>\n",
       "      <td>2014-02-15T00:00:00</td>\n",
       "      <td>2012-01-19T00:00:00</td>\n",
       "      <td>2012-01-20T00:00:00</td>\n",
       "      <td>2012-12-29T00:00:00</td>\n",
       "      <td>NaN</td>\n",
       "      <td>41.890047</td>\n",
       "      <td>-87.637467</td>\n",
       "      <td>{'latitude': '41.89004724888915', 'longitude':...</td>\n",
       "    </tr>\n",
       "    <tr>\n",
       "      <th>1</th>\n",
       "      <td>69813-20110616</td>\n",
       "      <td>2090759</td>\n",
       "      <td>65043</td>\n",
       "      <td>1</td>\n",
       "      <td>CSX INTERMODAL INC</td>\n",
       "      <td>CSX INTERMODAL</td>\n",
       "      <td>2101 W 59TH ST 1ST</td>\n",
       "      <td>CHICAGO</td>\n",
       "      <td>IL</td>\n",
       "      <td>60636.0</td>\n",
       "      <td>...</td>\n",
       "      <td>N</td>\n",
       "      <td>2011-06-16T00:00:00</td>\n",
       "      <td>2013-06-15T00:00:00</td>\n",
       "      <td>2012-11-02T00:00:00</td>\n",
       "      <td>2012-11-05T00:00:00</td>\n",
       "      <td>2012-12-29T00:00:00</td>\n",
       "      <td>NaN</td>\n",
       "      <td>41.786485</td>\n",
       "      <td>-87.676665</td>\n",
       "      <td>{'latitude': '41.786485235679486', 'longitude'...</td>\n",
       "    </tr>\n",
       "    <tr>\n",
       "      <th>2</th>\n",
       "      <td>1519227-20041116</td>\n",
       "      <td>1541990</td>\n",
       "      <td>281270</td>\n",
       "      <td>1</td>\n",
       "      <td>LOCOMIBILE  LOFTS LLC</td>\n",
       "      <td>LOCOMOBILE LOFTS LLC</td>\n",
       "      <td>1133 S WABASH AVE 1ST</td>\n",
       "      <td>CHICAGO</td>\n",
       "      <td>IL</td>\n",
       "      <td>60605.0</td>\n",
       "      <td>...</td>\n",
       "      <td>N</td>\n",
       "      <td>2004-11-16T00:00:00</td>\n",
       "      <td>2005-11-15T00:00:00</td>\n",
       "      <td>2004-12-06T00:00:00</td>\n",
       "      <td>2004-12-07T00:00:00</td>\n",
       "      <td>NaN</td>\n",
       "      <td>NaN</td>\n",
       "      <td>41.868269</td>\n",
       "      <td>-87.625695</td>\n",
       "      <td>{'latitude': '41.86826924843568', 'longitude':...</td>\n",
       "    </tr>\n",
       "    <tr>\n",
       "      <th>3</th>\n",
       "      <td>1922025-20100816</td>\n",
       "      <td>2041053</td>\n",
       "      <td>335243</td>\n",
       "      <td>1</td>\n",
       "      <td>ANNA F. JAMISON</td>\n",
       "      <td>ANNA F. JAMISON</td>\n",
       "      <td>13156 S FORRESTVILLE AVE</td>\n",
       "      <td>CHICAGO</td>\n",
       "      <td>IL</td>\n",
       "      <td>60827.0</td>\n",
       "      <td>...</td>\n",
       "      <td>N</td>\n",
       "      <td>2010-08-16T00:00:00</td>\n",
       "      <td>2012-08-15T00:00:00</td>\n",
       "      <td>NaN</td>\n",
       "      <td>2010-11-04T00:00:00</td>\n",
       "      <td>2012-12-31T00:00:00</td>\n",
       "      <td>NaN</td>\n",
       "      <td>41.655762</td>\n",
       "      <td>-87.608686</td>\n",
       "      <td>{'latitude': '41.65576175146191', 'longitude':...</td>\n",
       "    </tr>\n",
       "    <tr>\n",
       "      <th>4</th>\n",
       "      <td>1675683-20070816</td>\n",
       "      <td>1837158</td>\n",
       "      <td>283018</td>\n",
       "      <td>3</td>\n",
       "      <td>MARINCA A. COVARRUBIAS</td>\n",
       "      <td>DETAILS</td>\n",
       "      <td>4208 S ARCHER AVE</td>\n",
       "      <td>CHICAGO</td>\n",
       "      <td>IL</td>\n",
       "      <td>60632.0</td>\n",
       "      <td>...</td>\n",
       "      <td>N</td>\n",
       "      <td>2007-08-16T00:00:00</td>\n",
       "      <td>2009-06-15T00:00:00</td>\n",
       "      <td>2007-08-15T00:00:00</td>\n",
       "      <td>2007-08-16T00:00:00</td>\n",
       "      <td>2008-03-26T00:00:00</td>\n",
       "      <td>39.0</td>\n",
       "      <td>41.816969</td>\n",
       "      <td>-87.699785</td>\n",
       "      <td>{'latitude': '41.81696910012824', 'longitude':...</td>\n",
       "    </tr>\n",
       "  </tbody>\n",
       "</table>\n",
       "<p>5 rows × 31 columns</p>\n",
       "</div>"
      ],
      "text/plain": [
       "                 ID  LICENSE ID  ACCOUNT NUMBER  SITE NUMBER  \\\n",
       "0  1516615-20120216     2132209          280120            1   \n",
       "1    69813-20110616     2090759           65043            1   \n",
       "2  1519227-20041116     1541990          281270            1   \n",
       "3  1922025-20100816     2041053          335243            1   \n",
       "4  1675683-20070816     1837158          283018            3   \n",
       "\n",
       "               LEGAL NAME DOING BUSINESS AS NAME                   ADDRESS  \\\n",
       "0          RS HOMES I LLC         RS HOMES I LLC    350 W HUBBARD ST 3 300   \n",
       "1      CSX INTERMODAL INC         CSX INTERMODAL        2101 W 59TH ST 1ST   \n",
       "2   LOCOMIBILE  LOFTS LLC   LOCOMOBILE LOFTS LLC     1133 S WABASH AVE 1ST   \n",
       "3         ANNA F. JAMISON        ANNA F. JAMISON  13156 S FORRESTVILLE AVE   \n",
       "4  MARINCA A. COVARRUBIAS                DETAILS         4208 S ARCHER AVE   \n",
       "\n",
       "      CITY STATE  ZIP CODE  ...  CONDITIONAL APPROVAL  \\\n",
       "0  CHICAGO    IL   60610.0  ...                     N   \n",
       "1  CHICAGO    IL   60636.0  ...                     N   \n",
       "2  CHICAGO    IL   60605.0  ...                     N   \n",
       "3  CHICAGO    IL   60827.0  ...                     N   \n",
       "4  CHICAGO    IL   60632.0  ...                     N   \n",
       "\n",
       "   LICENSE TERM START DATE LICENSE TERM EXPIRATION DATE  \\\n",
       "0      2012-02-16T00:00:00          2014-02-15T00:00:00   \n",
       "1      2011-06-16T00:00:00          2013-06-15T00:00:00   \n",
       "2      2004-11-16T00:00:00          2005-11-15T00:00:00   \n",
       "3      2010-08-16T00:00:00          2012-08-15T00:00:00   \n",
       "4      2007-08-16T00:00:00          2009-06-15T00:00:00   \n",
       "\n",
       "   LICENSE APPROVED FOR ISSUANCE          DATE ISSUED  \\\n",
       "0            2012-01-19T00:00:00  2012-01-20T00:00:00   \n",
       "1            2012-11-02T00:00:00  2012-11-05T00:00:00   \n",
       "2            2004-12-06T00:00:00  2004-12-07T00:00:00   \n",
       "3                            NaN  2010-11-04T00:00:00   \n",
       "4            2007-08-15T00:00:00  2007-08-16T00:00:00   \n",
       "\n",
       "  LICENSE STATUS CHANGE DATE   SSA   LATITUDE  LONGITUDE  \\\n",
       "0        2012-12-29T00:00:00   NaN  41.890047 -87.637467   \n",
       "1        2012-12-29T00:00:00   NaN  41.786485 -87.676665   \n",
       "2                        NaN   NaN  41.868269 -87.625695   \n",
       "3        2012-12-31T00:00:00   NaN  41.655762 -87.608686   \n",
       "4        2008-03-26T00:00:00  39.0  41.816969 -87.699785   \n",
       "\n",
       "                                            LOCATION  \n",
       "0  {'latitude': '41.89004724888915', 'longitude':...  \n",
       "1  {'latitude': '41.786485235679486', 'longitude'...  \n",
       "2  {'latitude': '41.86826924843568', 'longitude':...  \n",
       "3  {'latitude': '41.65576175146191', 'longitude':...  \n",
       "4  {'latitude': '41.81696910012824', 'longitude':...  \n",
       "\n",
       "[5 rows x 31 columns]"
      ]
     },
     "execution_count": 5,
     "metadata": {},
     "output_type": "execute_result"
    }
   ],
   "source": [
    "df_test.head()"
   ]
  },
  {
   "cell_type": "code",
   "execution_count": 6,
   "metadata": {},
   "outputs": [
    {
     "data": {
      "text/plain": [
       "(57239, 31)"
      ]
     },
     "execution_count": 6,
     "metadata": {},
     "output_type": "execute_result"
    }
   ],
   "source": [
    "df_test.shape"
   ]
  },
  {
   "cell_type": "code",
   "execution_count": 7,
   "metadata": {},
   "outputs": [],
   "source": [
    "#Exploring the dataset."
   ]
  },
  {
   "cell_type": "code",
   "execution_count": 8,
   "metadata": {},
   "outputs": [
    {
     "data": {
      "text/plain": [
       "Index(['ID', 'LICENSE ID', 'ACCOUNT NUMBER', 'SITE NUMBER', 'LEGAL NAME',\n",
       "       'DOING BUSINESS AS NAME', 'ADDRESS', 'CITY', 'STATE', 'ZIP CODE',\n",
       "       'WARD', 'PRECINCT', 'WARD PRECINCT', 'POLICE DISTRICT', 'LICENSE CODE',\n",
       "       'LICENSE DESCRIPTION', 'LICENSE NUMBER', 'APPLICATION TYPE',\n",
       "       'APPLICATION CREATED DATE', 'APPLICATION REQUIREMENTS COMPLETE',\n",
       "       'PAYMENT DATE', 'CONDITIONAL APPROVAL', 'LICENSE TERM START DATE',\n",
       "       'LICENSE TERM EXPIRATION DATE', 'LICENSE APPROVED FOR ISSUANCE',\n",
       "       'DATE ISSUED', 'LICENSE STATUS CHANGE DATE', 'SSA', 'LATITUDE',\n",
       "       'LONGITUDE', 'LOCATION', 'LICENSE STATUS'],\n",
       "      dtype='object')"
      ]
     },
     "execution_count": 8,
     "metadata": {},
     "output_type": "execute_result"
    }
   ],
   "source": [
    "#Checking the columns\n",
    "df_train.columns"
   ]
  },
  {
   "cell_type": "code",
   "execution_count": 9,
   "metadata": {},
   "outputs": [
    {
     "data": {
      "text/plain": [
       "Index(['ID', 'LICENSE ID', 'ACCOUNT NUMBER', 'SITE NUMBER', 'LEGAL NAME',\n",
       "       'DOING BUSINESS AS NAME', 'ADDRESS', 'CITY', 'STATE', 'ZIP CODE',\n",
       "       'WARD', 'PRECINCT', 'WARD PRECINCT', 'POLICE DISTRICT', 'LICENSE CODE',\n",
       "       'LICENSE DESCRIPTION', 'LICENSE NUMBER', 'APPLICATION TYPE',\n",
       "       'APPLICATION CREATED DATE', 'APPLICATION REQUIREMENTS COMPLETE',\n",
       "       'PAYMENT DATE', 'CONDITIONAL APPROVAL', 'LICENSE TERM START DATE',\n",
       "       'LICENSE TERM EXPIRATION DATE', 'LICENSE APPROVED FOR ISSUANCE',\n",
       "       'DATE ISSUED', 'LICENSE STATUS CHANGE DATE', 'SSA', 'LATITUDE',\n",
       "       'LONGITUDE', 'LOCATION'],\n",
       "      dtype='object')"
      ]
     },
     "execution_count": 9,
     "metadata": {},
     "output_type": "execute_result"
    }
   ],
   "source": [
    "df_test.columns"
   ]
  },
  {
   "cell_type": "code",
   "execution_count": 10,
   "metadata": {},
   "outputs": [
    {
     "data": {
      "text/html": [
       "<div>\n",
       "<style scoped>\n",
       "    .dataframe tbody tr th:only-of-type {\n",
       "        vertical-align: middle;\n",
       "    }\n",
       "\n",
       "    .dataframe tbody tr th {\n",
       "        vertical-align: top;\n",
       "    }\n",
       "\n",
       "    .dataframe thead th {\n",
       "        text-align: right;\n",
       "    }\n",
       "</style>\n",
       "<table border=\"1\" class=\"dataframe\">\n",
       "  <thead>\n",
       "    <tr style=\"text-align: right;\">\n",
       "      <th></th>\n",
       "      <th>ID</th>\n",
       "    </tr>\n",
       "  </thead>\n",
       "  <tbody>\n",
       "    <tr>\n",
       "      <th>0</th>\n",
       "      <td>1516615-20120216</td>\n",
       "    </tr>\n",
       "    <tr>\n",
       "      <th>1</th>\n",
       "      <td>69813-20110616</td>\n",
       "    </tr>\n",
       "    <tr>\n",
       "      <th>2</th>\n",
       "      <td>1519227-20041116</td>\n",
       "    </tr>\n",
       "    <tr>\n",
       "      <th>3</th>\n",
       "      <td>1922025-20100816</td>\n",
       "    </tr>\n",
       "    <tr>\n",
       "      <th>4</th>\n",
       "      <td>1675683-20070816</td>\n",
       "    </tr>\n",
       "  </tbody>\n",
       "</table>\n",
       "</div>"
      ],
      "text/plain": [
       "                 ID\n",
       "0  1516615-20120216\n",
       "1    69813-20110616\n",
       "2  1519227-20041116\n",
       "3  1922025-20100816\n",
       "4  1675683-20070816"
      ]
     },
     "execution_count": 10,
     "metadata": {},
     "output_type": "execute_result"
    }
   ],
   "source": [
    "#Before further proceeding defining the submission dataframe\n",
    "submission = pd.DataFrame({'ID': df_test.ID})\n",
    "submission.head()"
   ]
  },
  {
   "cell_type": "code",
   "execution_count": 11,
   "metadata": {},
   "outputs": [
    {
     "data": {
      "text/html": [
       "<div>\n",
       "<style scoped>\n",
       "    .dataframe tbody tr th:only-of-type {\n",
       "        vertical-align: middle;\n",
       "    }\n",
       "\n",
       "    .dataframe tbody tr th {\n",
       "        vertical-align: top;\n",
       "    }\n",
       "\n",
       "    .dataframe thead th {\n",
       "        text-align: right;\n",
       "    }\n",
       "</style>\n",
       "<table border=\"1\" class=\"dataframe\">\n",
       "  <thead>\n",
       "    <tr style=\"text-align: right;\">\n",
       "      <th></th>\n",
       "      <th>LICENSE ID</th>\n",
       "      <th>ACCOUNT NUMBER</th>\n",
       "      <th>SITE NUMBER</th>\n",
       "      <th>WARD</th>\n",
       "      <th>PRECINCT</th>\n",
       "      <th>POLICE DISTRICT</th>\n",
       "      <th>LICENSE CODE</th>\n",
       "      <th>LICENSE NUMBER</th>\n",
       "      <th>SSA</th>\n",
       "      <th>LATITUDE</th>\n",
       "      <th>LONGITUDE</th>\n",
       "    </tr>\n",
       "  </thead>\n",
       "  <tbody>\n",
       "    <tr>\n",
       "      <th>count</th>\n",
       "      <td>8.589500e+04</td>\n",
       "      <td>85895.000000</td>\n",
       "      <td>85895.000000</td>\n",
       "      <td>36194.000000</td>\n",
       "      <td>29194.000000</td>\n",
       "      <td>31883.000000</td>\n",
       "      <td>85895.000000</td>\n",
       "      <td>8.589400e+04</td>\n",
       "      <td>9449.000000</td>\n",
       "      <td>38649.000000</td>\n",
       "      <td>38649.000000</td>\n",
       "    </tr>\n",
       "    <tr>\n",
       "      <th>mean</th>\n",
       "      <td>1.751303e+06</td>\n",
       "      <td>196695.421701</td>\n",
       "      <td>2.556028</td>\n",
       "      <td>28.528927</td>\n",
       "      <td>54.632973</td>\n",
       "      <td>13.529812</td>\n",
       "      <td>1111.736620</td>\n",
       "      <td>1.228151e+06</td>\n",
       "      <td>29.152080</td>\n",
       "      <td>41.880952</td>\n",
       "      <td>-87.681165</td>\n",
       "    </tr>\n",
       "    <tr>\n",
       "      <th>std</th>\n",
       "      <td>3.358780e+05</td>\n",
       "      <td>126819.343760</td>\n",
       "      <td>8.655706</td>\n",
       "      <td>13.921710</td>\n",
       "      <td>163.174955</td>\n",
       "      <td>7.275874</td>\n",
       "      <td>250.020872</td>\n",
       "      <td>7.431487e+05</td>\n",
       "      <td>17.419898</td>\n",
       "      <td>0.079617</td>\n",
       "      <td>0.056248</td>\n",
       "    </tr>\n",
       "    <tr>\n",
       "      <th>min</th>\n",
       "      <td>3.079300e+04</td>\n",
       "      <td>10.000000</td>\n",
       "      <td>1.000000</td>\n",
       "      <td>1.000000</td>\n",
       "      <td>1.000000</td>\n",
       "      <td>1.000000</td>\n",
       "      <td>1002.000000</td>\n",
       "      <td>1.290000e+02</td>\n",
       "      <td>1.000000</td>\n",
       "      <td>41.644694</td>\n",
       "      <td>-87.915285</td>\n",
       "    </tr>\n",
       "    <tr>\n",
       "      <th>25%</th>\n",
       "      <td>1.469024e+06</td>\n",
       "      <td>54615.000000</td>\n",
       "      <td>1.000000</td>\n",
       "      <td>17.000000</td>\n",
       "      <td>12.000000</td>\n",
       "      <td>8.000000</td>\n",
       "      <td>1010.000000</td>\n",
       "      <td>8.710900e+04</td>\n",
       "      <td>17.000000</td>\n",
       "      <td>41.834312</td>\n",
       "      <td>-87.719150</td>\n",
       "    </tr>\n",
       "    <tr>\n",
       "      <th>50%</th>\n",
       "      <td>1.778754e+06</td>\n",
       "      <td>248313.000000</td>\n",
       "      <td>1.000000</td>\n",
       "      <td>30.000000</td>\n",
       "      <td>26.000000</td>\n",
       "      <td>14.000000</td>\n",
       "      <td>1010.000000</td>\n",
       "      <td>1.442202e+06</td>\n",
       "      <td>28.000000</td>\n",
       "      <td>41.892679</td>\n",
       "      <td>-87.673321</td>\n",
       "    </tr>\n",
       "    <tr>\n",
       "      <th>75%</th>\n",
       "      <td>2.067578e+06</td>\n",
       "      <td>300243.500000</td>\n",
       "      <td>2.000000</td>\n",
       "      <td>42.000000</td>\n",
       "      <td>41.000000</td>\n",
       "      <td>19.000000</td>\n",
       "      <td>1011.000000</td>\n",
       "      <td>1.816581e+06</td>\n",
       "      <td>40.000000</td>\n",
       "      <td>41.938624</td>\n",
       "      <td>-87.639509</td>\n",
       "    </tr>\n",
       "    <tr>\n",
       "      <th>max</th>\n",
       "      <td>2.456551e+06</td>\n",
       "      <td>397444.000000</td>\n",
       "      <td>417.000000</td>\n",
       "      <td>50.000000</td>\n",
       "      <td>999.000000</td>\n",
       "      <td>181.000000</td>\n",
       "      <td>8340.000000</td>\n",
       "      <td>2.391410e+06</td>\n",
       "      <td>69.000000</td>\n",
       "      <td>42.022660</td>\n",
       "      <td>-87.525872</td>\n",
       "    </tr>\n",
       "  </tbody>\n",
       "</table>\n",
       "</div>"
      ],
      "text/plain": [
       "         LICENSE ID  ACCOUNT NUMBER   SITE NUMBER          WARD      PRECINCT  \\\n",
       "count  8.589500e+04    85895.000000  85895.000000  36194.000000  29194.000000   \n",
       "mean   1.751303e+06   196695.421701      2.556028     28.528927     54.632973   \n",
       "std    3.358780e+05   126819.343760      8.655706     13.921710    163.174955   \n",
       "min    3.079300e+04       10.000000      1.000000      1.000000      1.000000   \n",
       "25%    1.469024e+06    54615.000000      1.000000     17.000000     12.000000   \n",
       "50%    1.778754e+06   248313.000000      1.000000     30.000000     26.000000   \n",
       "75%    2.067578e+06   300243.500000      2.000000     42.000000     41.000000   \n",
       "max    2.456551e+06   397444.000000    417.000000     50.000000    999.000000   \n",
       "\n",
       "       POLICE DISTRICT  LICENSE CODE  LICENSE NUMBER          SSA  \\\n",
       "count     31883.000000  85895.000000    8.589400e+04  9449.000000   \n",
       "mean         13.529812   1111.736620    1.228151e+06    29.152080   \n",
       "std           7.275874    250.020872    7.431487e+05    17.419898   \n",
       "min           1.000000   1002.000000    1.290000e+02     1.000000   \n",
       "25%           8.000000   1010.000000    8.710900e+04    17.000000   \n",
       "50%          14.000000   1010.000000    1.442202e+06    28.000000   \n",
       "75%          19.000000   1011.000000    1.816581e+06    40.000000   \n",
       "max         181.000000   8340.000000    2.391410e+06    69.000000   \n",
       "\n",
       "           LATITUDE     LONGITUDE  \n",
       "count  38649.000000  38649.000000  \n",
       "mean      41.880952    -87.681165  \n",
       "std        0.079617      0.056248  \n",
       "min       41.644694    -87.915285  \n",
       "25%       41.834312    -87.719150  \n",
       "50%       41.892679    -87.673321  \n",
       "75%       41.938624    -87.639509  \n",
       "max       42.022660    -87.525872  "
      ]
     },
     "execution_count": 11,
     "metadata": {},
     "output_type": "execute_result"
    }
   ],
   "source": [
    "df_train.describe()"
   ]
  },
  {
   "cell_type": "code",
   "execution_count": 12,
   "metadata": {},
   "outputs": [
    {
     "data": {
      "text/html": [
       "<div>\n",
       "<style scoped>\n",
       "    .dataframe tbody tr th:only-of-type {\n",
       "        vertical-align: middle;\n",
       "    }\n",
       "\n",
       "    .dataframe tbody tr th {\n",
       "        vertical-align: top;\n",
       "    }\n",
       "\n",
       "    .dataframe thead th {\n",
       "        text-align: right;\n",
       "    }\n",
       "</style>\n",
       "<table border=\"1\" class=\"dataframe\">\n",
       "  <thead>\n",
       "    <tr style=\"text-align: right;\">\n",
       "      <th></th>\n",
       "      <th>LICENSE ID</th>\n",
       "      <th>ACCOUNT NUMBER</th>\n",
       "      <th>SITE NUMBER</th>\n",
       "      <th>ZIP CODE</th>\n",
       "      <th>WARD</th>\n",
       "      <th>PRECINCT</th>\n",
       "      <th>POLICE DISTRICT</th>\n",
       "      <th>LICENSE CODE</th>\n",
       "      <th>LICENSE NUMBER</th>\n",
       "      <th>SSA</th>\n",
       "      <th>LATITUDE</th>\n",
       "      <th>LONGITUDE</th>\n",
       "    </tr>\n",
       "  </thead>\n",
       "  <tbody>\n",
       "    <tr>\n",
       "      <th>count</th>\n",
       "      <td>5.723900e+04</td>\n",
       "      <td>57239.000000</td>\n",
       "      <td>57239.000000</td>\n",
       "      <td>57227.000000</td>\n",
       "      <td>56613.000000</td>\n",
       "      <td>55661.000000</td>\n",
       "      <td>55764.00000</td>\n",
       "      <td>57239.000000</td>\n",
       "      <td>5.723900e+04</td>\n",
       "      <td>15908.000000</td>\n",
       "      <td>56329.000000</td>\n",
       "      <td>56329.000000</td>\n",
       "    </tr>\n",
       "    <tr>\n",
       "      <th>mean</th>\n",
       "      <td>1.867003e+06</td>\n",
       "      <td>187884.083719</td>\n",
       "      <td>4.518685</td>\n",
       "      <td>60580.682982</td>\n",
       "      <td>28.072987</td>\n",
       "      <td>27.203105</td>\n",
       "      <td>13.16369</td>\n",
       "      <td>1243.865197</td>\n",
       "      <td>1.208141e+06</td>\n",
       "      <td>29.852653</td>\n",
       "      <td>41.879834</td>\n",
       "      <td>-87.678037</td>\n",
       "    </tr>\n",
       "    <tr>\n",
       "      <th>std</th>\n",
       "      <td>3.788378e+05</td>\n",
       "      <td>139139.743948</td>\n",
       "      <td>19.860738</td>\n",
       "      <td>2088.082252</td>\n",
       "      <td>14.587923</td>\n",
       "      <td>20.639461</td>\n",
       "      <td>7.11839</td>\n",
       "      <td>683.092249</td>\n",
       "      <td>8.530084e+05</td>\n",
       "      <td>17.447423</td>\n",
       "      <td>0.078721</td>\n",
       "      <td>0.055403</td>\n",
       "    </tr>\n",
       "    <tr>\n",
       "      <th>min</th>\n",
       "      <td>9.803000e+03</td>\n",
       "      <td>10.000000</td>\n",
       "      <td>1.000000</td>\n",
       "      <td>1830.000000</td>\n",
       "      <td>1.000000</td>\n",
       "      <td>1.000000</td>\n",
       "      <td>0.00000</td>\n",
       "      <td>1002.000000</td>\n",
       "      <td>4.300000e+01</td>\n",
       "      <td>1.000000</td>\n",
       "      <td>41.644712</td>\n",
       "      <td>-87.933977</td>\n",
       "    </tr>\n",
       "    <tr>\n",
       "      <th>25%</th>\n",
       "      <td>1.553288e+06</td>\n",
       "      <td>41316.000000</td>\n",
       "      <td>1.000000</td>\n",
       "      <td>60612.000000</td>\n",
       "      <td>16.000000</td>\n",
       "      <td>12.000000</td>\n",
       "      <td>8.00000</td>\n",
       "      <td>1010.000000</td>\n",
       "      <td>6.149350e+04</td>\n",
       "      <td>17.000000</td>\n",
       "      <td>41.834519</td>\n",
       "      <td>-87.713276</td>\n",
       "    </tr>\n",
       "    <tr>\n",
       "      <th>50%</th>\n",
       "      <td>1.912282e+06</td>\n",
       "      <td>222091.000000</td>\n",
       "      <td>1.000000</td>\n",
       "      <td>60624.000000</td>\n",
       "      <td>30.000000</td>\n",
       "      <td>26.000000</td>\n",
       "      <td>14.00000</td>\n",
       "      <td>1010.000000</td>\n",
       "      <td>1.473632e+06</td>\n",
       "      <td>29.000000</td>\n",
       "      <td>41.891538</td>\n",
       "      <td>-87.669686</td>\n",
       "    </tr>\n",
       "    <tr>\n",
       "      <th>75%</th>\n",
       "      <td>2.137864e+06</td>\n",
       "      <td>312884.000000</td>\n",
       "      <td>2.000000</td>\n",
       "      <td>60641.000000</td>\n",
       "      <td>42.000000</td>\n",
       "      <td>41.000000</td>\n",
       "      <td>18.00000</td>\n",
       "      <td>1275.000000</td>\n",
       "      <td>1.928348e+06</td>\n",
       "      <td>43.000000</td>\n",
       "      <td>41.938297</td>\n",
       "      <td>-87.635921</td>\n",
       "    </tr>\n",
       "    <tr>\n",
       "      <th>max</th>\n",
       "      <td>2.615886e+06</td>\n",
       "      <td>429413.000000</td>\n",
       "      <td>507.000000</td>\n",
       "      <td>98003.000000</td>\n",
       "      <td>50.000000</td>\n",
       "      <td>999.000000</td>\n",
       "      <td>25.00000</td>\n",
       "      <td>8344.000000</td>\n",
       "      <td>2.615886e+06</td>\n",
       "      <td>69.000000</td>\n",
       "      <td>42.022630</td>\n",
       "      <td>-87.525872</td>\n",
       "    </tr>\n",
       "  </tbody>\n",
       "</table>\n",
       "</div>"
      ],
      "text/plain": [
       "         LICENSE ID  ACCOUNT NUMBER   SITE NUMBER      ZIP CODE          WARD  \\\n",
       "count  5.723900e+04    57239.000000  57239.000000  57227.000000  56613.000000   \n",
       "mean   1.867003e+06   187884.083719      4.518685  60580.682982     28.072987   \n",
       "std    3.788378e+05   139139.743948     19.860738   2088.082252     14.587923   \n",
       "min    9.803000e+03       10.000000      1.000000   1830.000000      1.000000   \n",
       "25%    1.553288e+06    41316.000000      1.000000  60612.000000     16.000000   \n",
       "50%    1.912282e+06   222091.000000      1.000000  60624.000000     30.000000   \n",
       "75%    2.137864e+06   312884.000000      2.000000  60641.000000     42.000000   \n",
       "max    2.615886e+06   429413.000000    507.000000  98003.000000     50.000000   \n",
       "\n",
       "           PRECINCT  POLICE DISTRICT  LICENSE CODE  LICENSE NUMBER  \\\n",
       "count  55661.000000      55764.00000  57239.000000    5.723900e+04   \n",
       "mean      27.203105         13.16369   1243.865197    1.208141e+06   \n",
       "std       20.639461          7.11839    683.092249    8.530084e+05   \n",
       "min        1.000000          0.00000   1002.000000    4.300000e+01   \n",
       "25%       12.000000          8.00000   1010.000000    6.149350e+04   \n",
       "50%       26.000000         14.00000   1010.000000    1.473632e+06   \n",
       "75%       41.000000         18.00000   1275.000000    1.928348e+06   \n",
       "max      999.000000         25.00000   8344.000000    2.615886e+06   \n",
       "\n",
       "                SSA      LATITUDE     LONGITUDE  \n",
       "count  15908.000000  56329.000000  56329.000000  \n",
       "mean      29.852653     41.879834    -87.678037  \n",
       "std       17.447423      0.078721      0.055403  \n",
       "min        1.000000     41.644712    -87.933977  \n",
       "25%       17.000000     41.834519    -87.713276  \n",
       "50%       29.000000     41.891538    -87.669686  \n",
       "75%       43.000000     41.938297    -87.635921  \n",
       "max       69.000000     42.022630    -87.525872  "
      ]
     },
     "execution_count": 12,
     "metadata": {},
     "output_type": "execute_result"
    }
   ],
   "source": [
    "df_test.describe()"
   ]
  },
  {
   "cell_type": "code",
   "execution_count": 13,
   "metadata": {},
   "outputs": [
    {
     "data": {
      "text/plain": [
       "ID                                       0\n",
       "LICENSE ID                               0\n",
       "ACCOUNT NUMBER                           0\n",
       "SITE NUMBER                              0\n",
       "LEGAL NAME                               0\n",
       "DOING BUSINESS AS NAME                   1\n",
       "ADDRESS                                  0\n",
       "CITY                                     0\n",
       "STATE                                    0\n",
       "ZIP CODE                                31\n",
       "WARD                                 49701\n",
       "PRECINCT                             56701\n",
       "WARD PRECINCT                        49700\n",
       "POLICE DISTRICT                      54012\n",
       "LICENSE CODE                             0\n",
       "LICENSE DESCRIPTION                      0\n",
       "LICENSE NUMBER                           1\n",
       "APPLICATION TYPE                         0\n",
       "APPLICATION CREATED DATE             64660\n",
       "APPLICATION REQUIREMENTS COMPLETE      214\n",
       "PAYMENT DATE                          1289\n",
       "CONDITIONAL APPROVAL                     0\n",
       "LICENSE TERM START DATE                228\n",
       "LICENSE TERM EXPIRATION DATE            18\n",
       "LICENSE APPROVED FOR ISSUANCE         6789\n",
       "DATE ISSUED                              0\n",
       "LICENSE STATUS CHANGE DATE           55400\n",
       "SSA                                  76446\n",
       "LATITUDE                             47246\n",
       "LONGITUDE                            47246\n",
       "LOCATION                             47246\n",
       "LICENSE STATUS                           0\n",
       "dtype: int64"
      ]
     },
     "execution_count": 13,
     "metadata": {},
     "output_type": "execute_result"
    }
   ],
   "source": [
    "#Checking the null values\n",
    "df_train.isna().sum()"
   ]
  },
  {
   "cell_type": "code",
   "execution_count": 14,
   "metadata": {},
   "outputs": [
    {
     "data": {
      "text/plain": [
       "ID                                       0\n",
       "LICENSE ID                               0\n",
       "ACCOUNT NUMBER                           0\n",
       "SITE NUMBER                              0\n",
       "LEGAL NAME                               0\n",
       "DOING BUSINESS AS NAME                   2\n",
       "ADDRESS                                  0\n",
       "CITY                                     0\n",
       "STATE                                    0\n",
       "ZIP CODE                                12\n",
       "WARD                                   626\n",
       "PRECINCT                              1578\n",
       "WARD PRECINCT                          616\n",
       "POLICE DISTRICT                       1475\n",
       "LICENSE CODE                             0\n",
       "LICENSE DESCRIPTION                      0\n",
       "LICENSE NUMBER                           0\n",
       "APPLICATION TYPE                         0\n",
       "APPLICATION CREATED DATE             44587\n",
       "APPLICATION REQUIREMENTS COMPLETE      428\n",
       "PAYMENT DATE                          1051\n",
       "CONDITIONAL APPROVAL                     0\n",
       "LICENSE TERM START DATE                118\n",
       "LICENSE TERM EXPIRATION DATE             6\n",
       "LICENSE APPROVED FOR ISSUANCE         2379\n",
       "DATE ISSUED                              0\n",
       "LICENSE STATUS CHANGE DATE           23246\n",
       "SSA                                  41331\n",
       "LATITUDE                               910\n",
       "LONGITUDE                              910\n",
       "LOCATION                               910\n",
       "dtype: int64"
      ]
     },
     "execution_count": 14,
     "metadata": {},
     "output_type": "execute_result"
    }
   ],
   "source": [
    "df_test.isna().sum()"
   ]
  },
  {
   "cell_type": "code",
   "execution_count": 15,
   "metadata": {},
   "outputs": [
    {
     "name": "stdout",
     "output_type": "stream",
     "text": [
      "<class 'pandas.core.frame.DataFrame'>\n",
      "RangeIndex: 85895 entries, 0 to 85894\n",
      "Data columns (total 32 columns):\n",
      " #   Column                             Non-Null Count  Dtype  \n",
      "---  ------                             --------------  -----  \n",
      " 0   ID                                 85895 non-null  object \n",
      " 1   LICENSE ID                         85895 non-null  int64  \n",
      " 2   ACCOUNT NUMBER                     85895 non-null  int64  \n",
      " 3   SITE NUMBER                        85895 non-null  int64  \n",
      " 4   LEGAL NAME                         85895 non-null  object \n",
      " 5   DOING BUSINESS AS NAME             85894 non-null  object \n",
      " 6   ADDRESS                            85895 non-null  object \n",
      " 7   CITY                               85895 non-null  object \n",
      " 8   STATE                              85895 non-null  object \n",
      " 9   ZIP CODE                           85864 non-null  object \n",
      " 10  WARD                               36194 non-null  float64\n",
      " 11  PRECINCT                           29194 non-null  float64\n",
      " 12  WARD PRECINCT                      36195 non-null  object \n",
      " 13  POLICE DISTRICT                    31883 non-null  float64\n",
      " 14  LICENSE CODE                       85895 non-null  int64  \n",
      " 15  LICENSE DESCRIPTION                85895 non-null  object \n",
      " 16  LICENSE NUMBER                     85894 non-null  float64\n",
      " 17  APPLICATION TYPE                   85895 non-null  object \n",
      " 18  APPLICATION CREATED DATE           21235 non-null  object \n",
      " 19  APPLICATION REQUIREMENTS COMPLETE  85681 non-null  object \n",
      " 20  PAYMENT DATE                       84606 non-null  object \n",
      " 21  CONDITIONAL APPROVAL               85895 non-null  object \n",
      " 22  LICENSE TERM START DATE            85667 non-null  object \n",
      " 23  LICENSE TERM EXPIRATION DATE       85877 non-null  object \n",
      " 24  LICENSE APPROVED FOR ISSUANCE      79106 non-null  object \n",
      " 25  DATE ISSUED                        85895 non-null  object \n",
      " 26  LICENSE STATUS CHANGE DATE         30495 non-null  object \n",
      " 27  SSA                                9449 non-null   float64\n",
      " 28  LATITUDE                           38649 non-null  float64\n",
      " 29  LONGITUDE                          38649 non-null  float64\n",
      " 30  LOCATION                           38649 non-null  object \n",
      " 31  LICENSE STATUS                     85895 non-null  object \n",
      "dtypes: float64(7), int64(4), object(21)\n",
      "memory usage: 21.0+ MB\n"
     ]
    }
   ],
   "source": [
    "df_train.info()"
   ]
  },
  {
   "cell_type": "code",
   "execution_count": 16,
   "metadata": {},
   "outputs": [
    {
     "name": "stdout",
     "output_type": "stream",
     "text": [
      "<class 'pandas.core.frame.DataFrame'>\n",
      "RangeIndex: 57239 entries, 0 to 57238\n",
      "Data columns (total 31 columns):\n",
      " #   Column                             Non-Null Count  Dtype  \n",
      "---  ------                             --------------  -----  \n",
      " 0   ID                                 57239 non-null  object \n",
      " 1   LICENSE ID                         57239 non-null  int64  \n",
      " 2   ACCOUNT NUMBER                     57239 non-null  int64  \n",
      " 3   SITE NUMBER                        57239 non-null  int64  \n",
      " 4   LEGAL NAME                         57239 non-null  object \n",
      " 5   DOING BUSINESS AS NAME             57237 non-null  object \n",
      " 6   ADDRESS                            57239 non-null  object \n",
      " 7   CITY                               57239 non-null  object \n",
      " 8   STATE                              57239 non-null  object \n",
      " 9   ZIP CODE                           57227 non-null  float64\n",
      " 10  WARD                               56613 non-null  float64\n",
      " 11  PRECINCT                           55661 non-null  float64\n",
      " 12  WARD PRECINCT                      56623 non-null  object \n",
      " 13  POLICE DISTRICT                    55764 non-null  float64\n",
      " 14  LICENSE CODE                       57239 non-null  int64  \n",
      " 15  LICENSE DESCRIPTION                57239 non-null  object \n",
      " 16  LICENSE NUMBER                     57239 non-null  float64\n",
      " 17  APPLICATION TYPE                   57239 non-null  object \n",
      " 18  APPLICATION CREATED DATE           12652 non-null  object \n",
      " 19  APPLICATION REQUIREMENTS COMPLETE  56811 non-null  object \n",
      " 20  PAYMENT DATE                       56188 non-null  object \n",
      " 21  CONDITIONAL APPROVAL               57239 non-null  object \n",
      " 22  LICENSE TERM START DATE            57121 non-null  object \n",
      " 23  LICENSE TERM EXPIRATION DATE       57233 non-null  object \n",
      " 24  LICENSE APPROVED FOR ISSUANCE      54860 non-null  object \n",
      " 25  DATE ISSUED                        57239 non-null  object \n",
      " 26  LICENSE STATUS CHANGE DATE         33993 non-null  object \n",
      " 27  SSA                                15908 non-null  float64\n",
      " 28  LATITUDE                           56329 non-null  float64\n",
      " 29  LONGITUDE                          56329 non-null  float64\n",
      " 30  LOCATION                           56329 non-null  object \n",
      "dtypes: float64(8), int64(4), object(19)\n",
      "memory usage: 13.5+ MB\n"
     ]
    }
   ],
   "source": [
    "df_test.info()"
   ]
  },
  {
   "cell_type": "code",
   "execution_count": 17,
   "metadata": {},
   "outputs": [
    {
     "data": {
      "text/plain": [
       "AAI    55400\n",
       "AAC    30200\n",
       "REV      290\n",
       "REA        3\n",
       "INQ        2\n",
       "Name: LICENSE STATUS, dtype: int64"
      ]
     },
     "execution_count": 17,
     "metadata": {},
     "output_type": "execute_result"
    }
   ],
   "source": [
    "#Target Variable\n",
    "df_train['LICENSE STATUS'].value_counts()"
   ]
  },
  {
   "cell_type": "code",
   "execution_count": 18,
   "metadata": {},
   "outputs": [],
   "source": [
    "#Getting month and year from the datetime format.\n",
    "def convert_date(date_list):\n",
    "    for i in date_list:\n",
    "        df_train[i] = pd.to_datetime(df_train[i])\n",
    "        df_test[i] = pd.to_datetime(df_test[i])"
   ]
  },
  {
   "cell_type": "code",
   "execution_count": 19,
   "metadata": {},
   "outputs": [],
   "source": [
    "convert_date(['APPLICATION CREATED DATE','APPLICATION REQUIREMENTS COMPLETE', 'PAYMENT DATE', 'LICENSE TERM EXPIRATION DATE', 'LICENSE TERM START DATE',\n",
    "             'DATE ISSUED', 'LICENSE APPROVED FOR ISSUANCE', 'LICENSE STATUS CHANGE DATE'])"
   ]
  },
  {
   "cell_type": "code",
   "execution_count": 20,
   "metadata": {},
   "outputs": [],
   "source": [
    "#Dropping the columns that is of no use in making prediction\n",
    "df_train=df_train.drop(['SSA', 'LICENSE ID', 'ADDRESS', 'ID', 'LOCATION'],axis=1)"
   ]
  },
  {
   "cell_type": "code",
   "execution_count": 21,
   "metadata": {},
   "outputs": [],
   "source": [
    "df_test=df_test.drop(['SSA', 'LICENSE ID', 'ADDRESS', 'ID', 'LOCATION'],axis=1)"
   ]
  },
  {
   "cell_type": "code",
   "execution_count": 22,
   "metadata": {},
   "outputs": [
    {
     "name": "stdout",
     "output_type": "stream",
     "text": [
      "Number of duplicates in train data: 0\n",
      "Number of duplicates in test data: 0\n"
     ]
    }
   ],
   "source": [
    "#Checking if there is any duplicate value:\n",
    "print('Number of duplicates in train data:', df_train.duplicated().sum())\n",
    "print('Number of duplicates in test data:', df_test.duplicated().sum())"
   ]
  },
  {
   "cell_type": "code",
   "execution_count": 23,
   "metadata": {},
   "outputs": [],
   "source": [
    "#Replacing missing values by mean:\n",
    "df_train['LATITUDE'].fillna(df_train['LATITUDE'].mean(), inplace=True)\n",
    "df_train['LONGITUDE'].fillna(df_train['LONGITUDE'].mean(), inplace=True)"
   ]
  },
  {
   "cell_type": "code",
   "execution_count": 24,
   "metadata": {},
   "outputs": [],
   "source": [
    "df_test['LATITUDE'].fillna(df_test['LATITUDE'].mean(), inplace=True)\n",
    "df_test['LONGITUDE'].fillna(df_test['LONGITUDE'].mean(), inplace=True)"
   ]
  },
  {
   "cell_type": "code",
   "execution_count": 25,
   "metadata": {},
   "outputs": [],
   "source": [
    "def get_year(colname, dfcolname):\n",
    "    df_train[colname] = df_train[dfcolname].apply(lambda x:x.year)\n",
    "    df_test[colname] = df_test[dfcolname].apply(lambda x:x.year)\n",
    "get_year('PAYMENT YEAR', 'PAYMENT DATE')\n",
    "get_year('REQUIREMENTS COMPLETION YEAR', 'APPLICATION REQUIREMENTS COMPLETE')\n",
    "get_year('ISSUED YEAR', 'DATE ISSUED')\n",
    "get_year('LICENSE TERM EXPIRATION YEAR', 'LICENSE TERM EXPIRATION DATE')\n",
    "get_year('LICENSE TERM START YEAR', 'LICENSE TERM START DATE')\n",
    "get_year('LICENSE APPROVED YEAR', 'LICENSE APPROVED FOR ISSUANCE')\n",
    "get_year('LICENSE STATUS CHANGE YEAR', 'LICENSE STATUS CHANGE DATE')"
   ]
  },
  {
   "cell_type": "code",
   "execution_count": 26,
   "metadata": {},
   "outputs": [],
   "source": [
    "def get_month(colname, dfcolname):\n",
    "    df_train[colname] = df_train[dfcolname].apply(lambda x:x.month)\n",
    "    df_test[colname] = df_test[dfcolname].apply(lambda x:x.month)\n",
    "get_month('PAYMENT MONTH', 'PAYMENT DATE')"
   ]
  },
  {
   "cell_type": "code",
   "execution_count": 27,
   "metadata": {},
   "outputs": [
    {
     "data": {
      "text/html": [
       "<div>\n",
       "<style scoped>\n",
       "    .dataframe tbody tr th:only-of-type {\n",
       "        vertical-align: middle;\n",
       "    }\n",
       "\n",
       "    .dataframe tbody tr th {\n",
       "        vertical-align: top;\n",
       "    }\n",
       "\n",
       "    .dataframe thead th {\n",
       "        text-align: right;\n",
       "    }\n",
       "</style>\n",
       "<table border=\"1\" class=\"dataframe\">\n",
       "  <thead>\n",
       "    <tr style=\"text-align: right;\">\n",
       "      <th></th>\n",
       "      <th>ACCOUNT NUMBER</th>\n",
       "      <th>SITE NUMBER</th>\n",
       "      <th>LEGAL NAME</th>\n",
       "      <th>DOING BUSINESS AS NAME</th>\n",
       "      <th>CITY</th>\n",
       "      <th>STATE</th>\n",
       "      <th>ZIP CODE</th>\n",
       "      <th>WARD</th>\n",
       "      <th>PRECINCT</th>\n",
       "      <th>WARD PRECINCT</th>\n",
       "      <th>...</th>\n",
       "      <th>LONGITUDE</th>\n",
       "      <th>LICENSE STATUS</th>\n",
       "      <th>PAYMENT YEAR</th>\n",
       "      <th>REQUIREMENTS COMPLETION YEAR</th>\n",
       "      <th>ISSUED YEAR</th>\n",
       "      <th>LICENSE TERM EXPIRATION YEAR</th>\n",
       "      <th>LICENSE TERM START YEAR</th>\n",
       "      <th>LICENSE APPROVED YEAR</th>\n",
       "      <th>LICENSE STATUS CHANGE YEAR</th>\n",
       "      <th>PAYMENT MONTH</th>\n",
       "    </tr>\n",
       "  </thead>\n",
       "  <tbody>\n",
       "    <tr>\n",
       "      <th>0</th>\n",
       "      <td>32811</td>\n",
       "      <td>1</td>\n",
       "      <td>CARMEN CAHUE</td>\n",
       "      <td>CLAUDIA'S BRIDAL SHOP</td>\n",
       "      <td>CHICAGO</td>\n",
       "      <td>IL</td>\n",
       "      <td>60623.0</td>\n",
       "      <td>22.0</td>\n",
       "      <td>28.0</td>\n",
       "      <td>22-28</td>\n",
       "      <td>...</td>\n",
       "      <td>-87.714618</td>\n",
       "      <td>AAI</td>\n",
       "      <td>2002.0</td>\n",
       "      <td>2002.0</td>\n",
       "      <td>2006</td>\n",
       "      <td>2003.0</td>\n",
       "      <td>2002.0</td>\n",
       "      <td>2002.0</td>\n",
       "      <td>NaN</td>\n",
       "      <td>8.0</td>\n",
       "    </tr>\n",
       "    <tr>\n",
       "      <th>1</th>\n",
       "      <td>262311</td>\n",
       "      <td>29</td>\n",
       "      <td>ISLA TROPICAL, INC.</td>\n",
       "      <td>ISLA TROPICAL</td>\n",
       "      <td>CHICAGO</td>\n",
       "      <td>IL</td>\n",
       "      <td>60618</td>\n",
       "      <td>33.0</td>\n",
       "      <td>23.0</td>\n",
       "      <td>33-23</td>\n",
       "      <td>...</td>\n",
       "      <td>-87.699626</td>\n",
       "      <td>AAC</td>\n",
       "      <td>2005.0</td>\n",
       "      <td>2005.0</td>\n",
       "      <td>2006</td>\n",
       "      <td>2006.0</td>\n",
       "      <td>2005.0</td>\n",
       "      <td>2006.0</td>\n",
       "      <td>2006.0</td>\n",
       "      <td>11.0</td>\n",
       "    </tr>\n",
       "    <tr>\n",
       "      <th>2</th>\n",
       "      <td>345008</td>\n",
       "      <td>1</td>\n",
       "      <td>DJS REMODELING</td>\n",
       "      <td>DJS REMODELING, INC.</td>\n",
       "      <td>HIGHLAND</td>\n",
       "      <td>IL</td>\n",
       "      <td>60035</td>\n",
       "      <td>NaN</td>\n",
       "      <td>NaN</td>\n",
       "      <td>NaN</td>\n",
       "      <td>...</td>\n",
       "      <td>-87.681165</td>\n",
       "      <td>AAI</td>\n",
       "      <td>2009.0</td>\n",
       "      <td>2009.0</td>\n",
       "      <td>2009</td>\n",
       "      <td>2011.0</td>\n",
       "      <td>2009.0</td>\n",
       "      <td>2009.0</td>\n",
       "      <td>NaN</td>\n",
       "      <td>7.0</td>\n",
       "    </tr>\n",
       "    <tr>\n",
       "      <th>3</th>\n",
       "      <td>273121</td>\n",
       "      <td>1</td>\n",
       "      <td>ALL-BRY CONSTRUCTION CO.</td>\n",
       "      <td>ALL-BRY CONSTRUCTION CO.</td>\n",
       "      <td>LEMONT</td>\n",
       "      <td>IL</td>\n",
       "      <td>60439</td>\n",
       "      <td>NaN</td>\n",
       "      <td>NaN</td>\n",
       "      <td>NaN</td>\n",
       "      <td>...</td>\n",
       "      <td>-87.681165</td>\n",
       "      <td>AAI</td>\n",
       "      <td>2004.0</td>\n",
       "      <td>2004.0</td>\n",
       "      <td>2004</td>\n",
       "      <td>2005.0</td>\n",
       "      <td>2004.0</td>\n",
       "      <td>2004.0</td>\n",
       "      <td>NaN</td>\n",
       "      <td>2.0</td>\n",
       "    </tr>\n",
       "    <tr>\n",
       "      <th>4</th>\n",
       "      <td>213785</td>\n",
       "      <td>1</td>\n",
       "      <td>MCDONOUGH MECHANICAL SERVICE</td>\n",
       "      <td>MCDONOUGH MECHANICAL SERVICE</td>\n",
       "      <td>WAUKEGAN</td>\n",
       "      <td>IL</td>\n",
       "      <td>60087</td>\n",
       "      <td>NaN</td>\n",
       "      <td>NaN</td>\n",
       "      <td>NaN</td>\n",
       "      <td>...</td>\n",
       "      <td>-87.681165</td>\n",
       "      <td>AAI</td>\n",
       "      <td>2008.0</td>\n",
       "      <td>2008.0</td>\n",
       "      <td>2008</td>\n",
       "      <td>2010.0</td>\n",
       "      <td>2008.0</td>\n",
       "      <td>2008.0</td>\n",
       "      <td>NaN</td>\n",
       "      <td>6.0</td>\n",
       "    </tr>\n",
       "  </tbody>\n",
       "</table>\n",
       "<p>5 rows × 35 columns</p>\n",
       "</div>"
      ],
      "text/plain": [
       "   ACCOUNT NUMBER  SITE NUMBER                    LEGAL NAME  \\\n",
       "0           32811            1                  CARMEN CAHUE   \n",
       "1          262311           29           ISLA TROPICAL, INC.   \n",
       "2          345008            1                DJS REMODELING   \n",
       "3          273121            1      ALL-BRY CONSTRUCTION CO.   \n",
       "4          213785            1  MCDONOUGH MECHANICAL SERVICE   \n",
       "\n",
       "         DOING BUSINESS AS NAME      CITY STATE ZIP CODE  WARD  PRECINCT  \\\n",
       "0         CLAUDIA'S BRIDAL SHOP   CHICAGO    IL  60623.0  22.0      28.0   \n",
       "1                 ISLA TROPICAL   CHICAGO    IL    60618  33.0      23.0   \n",
       "2          DJS REMODELING, INC.  HIGHLAND    IL    60035   NaN       NaN   \n",
       "3      ALL-BRY CONSTRUCTION CO.    LEMONT    IL    60439   NaN       NaN   \n",
       "4  MCDONOUGH MECHANICAL SERVICE  WAUKEGAN    IL    60087   NaN       NaN   \n",
       "\n",
       "  WARD PRECINCT  ...  LONGITUDE  LICENSE STATUS PAYMENT YEAR  \\\n",
       "0         22-28  ... -87.714618             AAI       2002.0   \n",
       "1         33-23  ... -87.699626             AAC       2005.0   \n",
       "2           NaN  ... -87.681165             AAI       2009.0   \n",
       "3           NaN  ... -87.681165             AAI       2004.0   \n",
       "4           NaN  ... -87.681165             AAI       2008.0   \n",
       "\n",
       "   REQUIREMENTS COMPLETION YEAR ISSUED YEAR LICENSE TERM EXPIRATION YEAR  \\\n",
       "0                        2002.0        2006                       2003.0   \n",
       "1                        2005.0        2006                       2006.0   \n",
       "2                        2009.0        2009                       2011.0   \n",
       "3                        2004.0        2004                       2005.0   \n",
       "4                        2008.0        2008                       2010.0   \n",
       "\n",
       "  LICENSE TERM START YEAR LICENSE APPROVED YEAR LICENSE STATUS CHANGE YEAR  \\\n",
       "0                  2002.0                2002.0                        NaN   \n",
       "1                  2005.0                2006.0                     2006.0   \n",
       "2                  2009.0                2009.0                        NaN   \n",
       "3                  2004.0                2004.0                        NaN   \n",
       "4                  2008.0                2008.0                        NaN   \n",
       "\n",
       "  PAYMENT MONTH  \n",
       "0           8.0  \n",
       "1          11.0  \n",
       "2           7.0  \n",
       "3           2.0  \n",
       "4           6.0  \n",
       "\n",
       "[5 rows x 35 columns]"
      ]
     },
     "execution_count": 27,
     "metadata": {},
     "output_type": "execute_result"
    }
   ],
   "source": [
    "df_train.head()"
   ]
  },
  {
   "cell_type": "code",
   "execution_count": 28,
   "metadata": {},
   "outputs": [],
   "source": [
    "#Now dropping the unwanted columns\n",
    "df_train=df_train.drop(['PAYMENT DATE','APPLICATION REQUIREMENTS COMPLETE','DATE ISSUED','LICENSE TERM EXPIRATION DATE','LICENSE TERM START DATE','LICENSE APPROVED FOR ISSUANCE','LICENSE STATUS CHANGE DATE','APPLICATION CREATED DATE'],axis=1)\n",
    "df_test=df_test.drop(['PAYMENT DATE','APPLICATION REQUIREMENTS COMPLETE','DATE ISSUED','LICENSE TERM EXPIRATION DATE','LICENSE TERM START DATE','LICENSE APPROVED FOR ISSUANCE','LICENSE STATUS CHANGE DATE','APPLICATION CREATED DATE'],axis=1)\n"
   ]
  },
  {
   "cell_type": "code",
   "execution_count": 29,
   "metadata": {},
   "outputs": [
    {
     "data": {
      "text/plain": [
       "ACCOUNT NUMBER                    int64\n",
       "SITE NUMBER                       int64\n",
       "LEGAL NAME                       object\n",
       "DOING BUSINESS AS NAME           object\n",
       "CITY                             object\n",
       "STATE                            object\n",
       "ZIP CODE                         object\n",
       "WARD                            float64\n",
       "PRECINCT                        float64\n",
       "WARD PRECINCT                    object\n",
       "POLICE DISTRICT                 float64\n",
       "LICENSE CODE                      int64\n",
       "LICENSE DESCRIPTION              object\n",
       "LICENSE NUMBER                  float64\n",
       "APPLICATION TYPE                 object\n",
       "CONDITIONAL APPROVAL             object\n",
       "LATITUDE                        float64\n",
       "LONGITUDE                       float64\n",
       "LICENSE STATUS                   object\n",
       "PAYMENT YEAR                    float64\n",
       "REQUIREMENTS COMPLETION YEAR    float64\n",
       "ISSUED YEAR                       int64\n",
       "LICENSE TERM EXPIRATION YEAR    float64\n",
       "LICENSE TERM START YEAR         float64\n",
       "LICENSE APPROVED YEAR           float64\n",
       "LICENSE STATUS CHANGE YEAR      float64\n",
       "PAYMENT MONTH                   float64\n",
       "dtype: object"
      ]
     },
     "execution_count": 29,
     "metadata": {},
     "output_type": "execute_result"
    }
   ],
   "source": [
    "df_train.dtypes"
   ]
  },
  {
   "cell_type": "code",
   "execution_count": 30,
   "metadata": {},
   "outputs": [],
   "source": [
    "def mean_round(Column_list):\n",
    "    for i in Column_list:\n",
    "        df_train[i] = df_train[i].fillna((df_train[i].mean()))\n",
    "        df_test[i] = df_test[i].fillna((df_test[i].mean()))"
   ]
  },
  {
   "cell_type": "code",
   "execution_count": 31,
   "metadata": {},
   "outputs": [],
   "source": [
    "Column_list=['LICENSE TERM EXPIRATION YEAR', 'LICENSE TERM START YEAR', 'PAYMENT YEAR', 'LICENSE APPROVED YEAR',\n",
    "                 'LICENSE STATUS CHANGE YEAR']\n",
    "mean_round(Column_list)"
   ]
  },
  {
   "cell_type": "code",
   "execution_count": 32,
   "metadata": {},
   "outputs": [],
   "source": [
    "df_train['LICENSE VALIDITY'] = abs(df_train['LICENSE TERM EXPIRATION YEAR'] - df_train['LICENSE TERM START YEAR'])\n",
    "df_test['LICENSE VALIDITY'] = abs(df_test['LICENSE TERM EXPIRATION YEAR'] - df_test['LICENSE TERM START YEAR'])"
   ]
  },
  {
   "cell_type": "code",
   "execution_count": 33,
   "metadata": {},
   "outputs": [],
   "source": [
    "#Dropping the columns\n",
    "df_train=df_train.drop(['LICENSE TERM EXPIRATION YEAR','LICENSE TERM START YEAR'],axis=1)\n",
    "df_test=df_test.drop(['LICENSE TERM EXPIRATION YEAR','LICENSE TERM START YEAR'],axis=1)"
   ]
  },
  {
   "cell_type": "code",
   "execution_count": 34,
   "metadata": {},
   "outputs": [],
   "source": [
    "#Filling the missing values with none\n",
    "#Training data\n",
    "df_train['LEGAL NAME'] = df_train['LEGAL NAME'].fillna('None')\n",
    "df_train['DOING BUSINESS AS NAME'] = df_train['DOING BUSINESS AS NAME'].fillna('None')\n",
    "df_train['ZIP CODE'] = df_train['ZIP CODE'].fillna('None')\n",
    "\n",
    "#Testing data\n",
    "df_test['LEGAL NAME'] = df_test['LEGAL NAME'].fillna('None')\n",
    "df_test['DOING BUSINESS AS NAME'] = df_test['DOING BUSINESS AS NAME'].fillna('None')\n",
    "df_test['ZIP CODE'] = df_test['ZIP CODE'].fillna('None')\n"
   ]
  },
  {
   "cell_type": "code",
   "execution_count": 35,
   "metadata": {},
   "outputs": [],
   "source": [
    "#Copying data\n",
    "training_data=df_train\n",
    "testing_data=df_test"
   ]
  },
  {
   "cell_type": "code",
   "execution_count": 36,
   "metadata": {},
   "outputs": [
    {
     "data": {
      "text/plain": [
       "0                           RS HOMES I LLC\n",
       "1                           CSX INTERMODAL\n",
       "2                     LOCOMOBILE LOFTS LLC\n",
       "3                          ANNA F. JAMISON\n",
       "4                                  DETAILS\n",
       "                       ...                \n",
       "57234    GOODHEALTH MEDICAL PRODUCTS, INC.\n",
       "57235                            INTERPARK\n",
       "57236                         TOP CLEANERS\n",
       "57237         D. C. A. TOWING INCORPORATED\n",
       "57238             MARI'S CLEANING SERVICES\n",
       "Name: DOING BUSINESS AS NAME, Length: 57239, dtype: object"
      ]
     },
     "execution_count": 36,
     "metadata": {},
     "output_type": "execute_result"
    }
   ],
   "source": [
    "df_train['LEGAL NAME'].apply(lambda x: x.upper())\n",
    "df_train['DOING BUSINESS AS NAME'].apply(lambda x: x.upper())\n",
    "df_test['LEGAL NAME'].apply(lambda x: x.upper())\n",
    "df_test['DOING BUSINESS AS NAME'].apply(lambda x: x.upper())"
   ]
  },
  {
   "cell_type": "code",
   "execution_count": 37,
   "metadata": {},
   "outputs": [],
   "source": [
    "df_train['LEGAL NAME'] = df_train['LEGAL NAME'].str.replace('.', '', regex=False)\n",
    "df_train['DOING BUSINESS AS NAME'] = df_train['DOING BUSINESS AS NAME'].str.replace('.', '', regex=False)"
   ]
  },
  {
   "cell_type": "code",
   "execution_count": 38,
   "metadata": {},
   "outputs": [],
   "source": [
    "df_test['LEGAL NAME'] = df_test['LEGAL NAME'].str.replace('.', '', regex=False)\n",
    "df_test['DOING BUSINESS AS NAME'] = df_test['DOING BUSINESS AS NAME'].str.replace('.', '', regex=False)"
   ]
  },
  {
   "cell_type": "code",
   "execution_count": 39,
   "metadata": {},
   "outputs": [],
   "source": [
    "df_train['LEGAL TYPE'] = 'PVT'\n",
    "df_test['LEGAL TYPE'] = 'PVT'"
   ]
  },
  {
   "cell_type": "code",
   "execution_count": 40,
   "metadata": {},
   "outputs": [],
   "source": [
    "#Using output=numpy.where(condition,x,y):\n",
    "\n",
    "#Training data\n",
    "df_train['LEGAL TYPE'] = np.where(df_train['LEGAL NAME'].str.contains('INC'), 'INCOP', df_train['LEGAL TYPE'])\n",
    "df_train['LEGAL TYPE'] = np.where(df_train['LEGAL NAME'].str.contains('INCORPORATED'), 'INCOP', df_train['LEGAL TYPE'])\n",
    "df_train['LEGAL TYPE'] = np.where(df_train['DOING BUSINESS AS NAME'].str.contains('INC'), 'INCOP', df_train['LEGAL TYPE'])\n",
    "df_train['LEGAL TYPE'] = np.where(df_train['DOING BUSINESS AS NAME'].str.contains('INCORPORATED'), 'INCOP', df_train['LEGAL TYPE'])\n",
    "\n",
    "#Testing data\n",
    "df_test['LEGAL TYPE'] = np.where(df_test['LEGAL NAME'].str.contains('INC'), 'INCOP', df_test['LEGAL TYPE'])\n",
    "df_test['LEGAL TYPE'] = np.where(df_test['LEGAL NAME'].str.contains('INCORPORATED'), 'INCOP', df_test['LEGAL TYPE'])\n",
    "df_test['LEGAL TYPE'] = np.where(df_test['DOING BUSINESS AS NAME'].str.contains('INC'), 'INCOP', df_test['LEGAL TYPE'])\n",
    "df_test['LEGAL TYPE'] = np.where(df_test['DOING BUSINESS AS NAME'].str.contains('INCORPORATED'), 'INCOP', df_test['LEGAL TYPE'])"
   ]
  },
  {
   "cell_type": "code",
   "execution_count": 41,
   "metadata": {},
   "outputs": [],
   "source": [
    "#Training data\n",
    "df_train['LEGAL TYPE'] = np.where(df_train['LEGAL NAME'].str.contains('LLC'), 'LLC', df_train['LEGAL TYPE'])\n",
    "df_train['LEGAL TYPE'] = np.where(df_train['DOING BUSINESS AS NAME'].str.contains('LLC'), 'LLC', df_train['LEGAL TYPE'])\n",
    "\n",
    "#Testing data\n",
    "df_test['LEGAL TYPE'] = np.where(df_test['LEGAL NAME'].str.contains('LLC'), 'LLC', df_test['LEGAL TYPE'])\n",
    "df_test['LEGAL TYPE'] = np.where(df_test['DOING BUSINESS AS NAME'].str.contains('LLC'), 'LLC', df_test['LEGAL TYPE'])"
   ]
  },
  {
   "cell_type": "code",
   "execution_count": 42,
   "metadata": {},
   "outputs": [],
   "source": [
    "#Training data\n",
    "df_train['LEGAL TYPE'] = np.where(df_train['LEGAL NAME'].str.contains('CO'), 'CORP', df_train['LEGAL TYPE'])\n",
    "df_train['LEGAL TYPE'] = np.where(df_train['LEGAL NAME'].str.contains('CORP'), 'CORP', df_train['LEGAL TYPE'])\n",
    "df_train['LEGAL TYPE'] = np.where(df_train['LEGAL NAME'].str.contains('CORPORATION'), 'CORP', df_train['LEGAL TYPE'])\n",
    "df_train['LEGAL TYPE'] = np.where(df_train['DOING BUSINESS AS NAME'].str.contains('CO'), 'CORP', df_train['LEGAL TYPE'])\n",
    "df_train['LEGAL TYPE'] = np.where(df_train['DOING BUSINESS AS NAME'].str.contains('CORP'), 'CORP', df_train['LEGAL TYPE'])\n",
    "df_train['LEGAL TYPE'] = np.where(df_train['DOING BUSINESS AS NAME'].str.contains('CORPORATION'), 'CORP', df_train['LEGAL TYPE'])\n",
    "\n",
    "\n",
    "#Testing data\n",
    "df_test['LEGAL TYPE'] = np.where(df_test['LEGAL NAME'].str.contains('CO'), 'CORP', df_test['LEGAL TYPE'])\n",
    "df_test['LEGAL TYPE'] = np.where(df_test['LEGAL NAME'].str.contains('CORP'), 'CORP', df_test['LEGAL TYPE'])\n",
    "df_test['LEGAL TYPE'] = np.where(df_test['LEGAL NAME'].str.contains('CORPORATION'), 'CORP', df_test['LEGAL TYPE'])\n",
    "df_test['LEGAL TYPE'] = np.where(df_test['DOING BUSINESS AS NAME'].str.contains('CO'), 'CORP', df_test['LEGAL TYPE'])\n",
    "df_test['LEGAL TYPE'] = np.where(df_test['DOING BUSINESS AS NAME'].str.contains('CORP'), 'CORP', df_test['LEGAL TYPE'])\n",
    "df_test['LEGAL TYPE'] = np.where(df_test['DOING BUSINESS AS NAME'].str.contains('CORPORATION'), 'CORP', df_test['LEGAL TYPE'])"
   ]
  },
  {
   "cell_type": "code",
   "execution_count": 43,
   "metadata": {},
   "outputs": [],
   "source": [
    "#Training data\n",
    "df_train['LEGAL TYPE'] = np.where(df_train['LEGAL NAME'].str.contains('LTD'), 'LTD', df_train['LEGAL TYPE'])\n",
    "df_train['LEGAL TYPE'] = np.where(df_train['LEGAL NAME'].str.contains('LIMITED'), 'LTD', df_train['LEGAL TYPE'])\n",
    "df_train['LEGAL TYPE'] = np.where(df_train['DOING BUSINESS AS NAME'].str.contains('LTD'), 'LTD', df_train['LEGAL TYPE'])\n",
    "df_train['LEGAL TYPE'] = np.where(df_train['DOING BUSINESS AS NAME'].str.contains('LIMITED'), 'LTD', df_train['LEGAL TYPE'])\n",
    "\n",
    "\n",
    "#Testing data\n",
    "df_test['LEGAL TYPE'] = np.where(df_test['LEGAL NAME'].str.contains('LTD'), 'LTD', df_test['LEGAL TYPE'])\n",
    "df_test['LEGAL TYPE'] = np.where(df_test['LEGAL NAME'].str.contains('LIMITED'), 'LTD', df_test['LEGAL TYPE'])\n",
    "df_test['LEGAL TYPE'] = np.where(df_test['DOING BUSINESS AS NAME'].str.contains('LTD'), 'LTD', df_test['LEGAL TYPE'])\n",
    "df_test['LEGAL TYPE'] = np.where(df_test['DOING BUSINESS AS NAME'].str.contains('LIMITED'), 'LTD', df_test['LEGAL TYPE'])"
   ]
  },
  {
   "cell_type": "code",
   "execution_count": 44,
   "metadata": {},
   "outputs": [
    {
     "data": {
      "text/plain": [
       "CORP     27765\n",
       "PVT      27020\n",
       "INCOP    24447\n",
       "LLC       5048\n",
       "LTD       1615\n",
       "Name: LEGAL TYPE, dtype: int64"
      ]
     },
     "execution_count": 44,
     "metadata": {},
     "output_type": "execute_result"
    }
   ],
   "source": [
    "\n",
    "df_train['LEGAL TYPE'].value_counts()"
   ]
  },
  {
   "cell_type": "code",
   "execution_count": 45,
   "metadata": {},
   "outputs": [],
   "source": [
    "#Filling the missing value with zero for the columns with numeric data\n",
    "\n",
    "#Training data\n",
    "df_train['WARD'] = df_train['WARD'].fillna(0)\n",
    "df_train['PRECINCT'] = df_train['PRECINCT'].fillna(0)\n",
    "df_train['POLICE DISTRICT'] = df_train['POLICE DISTRICT'].fillna(0)\n",
    "df_train['PAYMENT MONTH'] = df_train['PAYMENT MONTH'].fillna(0)\n",
    "df_train['WARD PRECINCT'] = df_train['WARD PRECINCT'].fillna(0)\n",
    "df_train['LICENSE NUMBER'] = df_train['LICENSE NUMBER'].fillna(0)"
   ]
  },
  {
   "cell_type": "code",
   "execution_count": 46,
   "metadata": {},
   "outputs": [],
   "source": [
    "#Testing data\n",
    "df_test['LICENSE NUMBER'] = df_test['LICENSE NUMBER'].fillna(0)\n",
    "df_test['WARD'] = df_test['WARD'].fillna(0)\n",
    "df_test['PRECINCT'] = df_test['PRECINCT'].fillna(0)\n",
    "df_test['POLICE DISTRICT'] = df_test['POLICE DISTRICT'].fillna(0)\n",
    "df_test['PAYMENT MONTH'] = df_test['PAYMENT MONTH'].fillna(0)\n",
    "df_test['WARD PRECINCT'] = df_test['WARD PRECINCT'].fillna(0)\n"
   ]
  },
  {
   "cell_type": "code",
   "execution_count": 47,
   "metadata": {},
   "outputs": [],
   "source": [
    "#Dropping the columns that are of no use:\n",
    "df_train=df_train.drop(['LEGAL NAME','DOING BUSINESS AS NAME'],axis=1)\n",
    "df_test=df_test.drop(['LEGAL NAME','DOING BUSINESS AS NAME'],axis=1)"
   ]
  },
  {
   "cell_type": "code",
   "execution_count": 48,
   "metadata": {},
   "outputs": [],
   "source": [
    "#Encoding target variable:\n",
    "\n",
    "df_train[\"LICENSE STATUS\"] = df_train[\"LICENSE STATUS\"].replace('AAI', 0)\n",
    "df_train[\"LICENSE STATUS\"] = df_train[\"LICENSE STATUS\"].replace('AAC', 1)\n",
    "df_train[\"LICENSE STATUS\"] = df_train[\"LICENSE STATUS\"].replace('REV', 2)\n",
    "df_train[\"LICENSE STATUS\"] = df_train[\"LICENSE STATUS\"].replace('REA', 3)\n",
    "df_train[\"LICENSE STATUS\"] = df_train[\"LICENSE STATUS\"].replace('INQ', 4)"
   ]
  },
  {
   "cell_type": "code",
   "execution_count": 49,
   "metadata": {},
   "outputs": [
    {
     "data": {
      "text/plain": [
       "0    55400\n",
       "1    30200\n",
       "2      290\n",
       "3        3\n",
       "4        2\n",
       "Name: LICENSE STATUS, dtype: int64"
      ]
     },
     "execution_count": 49,
     "metadata": {},
     "output_type": "execute_result"
    }
   ],
   "source": [
    "df_train['LICENSE STATUS'].value_counts()"
   ]
  },
  {
   "cell_type": "code",
   "execution_count": 50,
   "metadata": {},
   "outputs": [
    {
     "name": "stdout",
     "output_type": "stream",
     "text": [
      "0               CHICAGO\n",
      "1               CHICAGO\n",
      "2              HIGHLAND\n",
      "3                LEMONT\n",
      "4              WAUKEGAN\n",
      "              ...      \n",
      "85890           CHICAGO\n",
      "85891    MACHESNEY PARK\n",
      "85892     DOWNERS GROVE\n",
      "85893           CHICAGO\n",
      "85894           CHICAGO\n",
      "Name: CITY, Length: 85895, dtype: object\n",
      "0        IL\n",
      "1        IL\n",
      "2        IL\n",
      "3        IL\n",
      "4        IL\n",
      "         ..\n",
      "85890    IL\n",
      "85891    IL\n",
      "85892    IL\n",
      "85893    IL\n",
      "85894    IL\n",
      "Name: STATE, Length: 85895, dtype: object\n",
      "0        60623.0\n",
      "1          60618\n",
      "2          60035\n",
      "3          60439\n",
      "4          60087\n",
      "          ...   \n",
      "85890      60607\n",
      "85891      61115\n",
      "85892      60515\n",
      "85893      60632\n",
      "85894      60639\n",
      "Name: ZIP CODE, Length: 85895, dtype: object\n",
      "0        22-28\n",
      "1        33-23\n",
      "2            0\n",
      "3            0\n",
      "4            0\n",
      "         ...  \n",
      "85890    11-28\n",
      "85891        0\n",
      "85892        0\n",
      "85893      23-\n",
      "85894    30-52\n",
      "Name: WARD PRECINCT, Length: 85895, dtype: object\n",
      "0         Limited Business License\n",
      "1            Mobile Food Dispenser\n",
      "2                      Home Repair\n",
      "3         Limited Business License\n",
      "4         Limited Business License\n",
      "                   ...            \n",
      "85890          Hazardous Materials\n",
      "85891                Board-Up Work\n",
      "85892     Limited Business License\n",
      "85893     Limited Business License\n",
      "85894    Retail Food Establishment\n",
      "Name: LICENSE DESCRIPTION, Length: 85895, dtype: object\n",
      "0        RENEW\n",
      "1        RENEW\n",
      "2        ISSUE\n",
      "3        ISSUE\n",
      "4        RENEW\n",
      "         ...  \n",
      "85890    RENEW\n",
      "85891    ISSUE\n",
      "85892    RENEW\n",
      "85893    RENEW\n",
      "85894    RENEW\n",
      "Name: APPLICATION TYPE, Length: 85895, dtype: object\n",
      "0        N\n",
      "1        N\n",
      "2        N\n",
      "3        N\n",
      "4        N\n",
      "        ..\n",
      "85890    N\n",
      "85891    N\n",
      "85892    N\n",
      "85893    N\n",
      "85894    N\n",
      "Name: CONDITIONAL APPROVAL, Length: 85895, dtype: object\n",
      "0          PVT\n",
      "1        INCOP\n",
      "2        INCOP\n",
      "3         CORP\n",
      "4          PVT\n",
      "         ...  \n",
      "85890      PVT\n",
      "85891    INCOP\n",
      "85892      LLC\n",
      "85893     CORP\n",
      "85894      PVT\n",
      "Name: LEGAL TYPE, Length: 85895, dtype: object\n"
     ]
    }
   ],
   "source": [
    "#Finding\n",
    "def dtype_object(df):\n",
    "    for i in df.columns:\n",
    "        if df[i].dtype=='object':\n",
    "            print(df[i])\n",
    "\n",
    "dtype_object(df_train)\n"
   ]
  },
  {
   "cell_type": "code",
   "execution_count": 51,
   "metadata": {},
   "outputs": [
    {
     "data": {
      "text/plain": [
       "RENEW     61085\n",
       "ISSUE     23398\n",
       "C_LOC      1400\n",
       "C_CAPA        7\n",
       "C_EXPA        5\n",
       "Name: APPLICATION TYPE, dtype: int64"
      ]
     },
     "execution_count": 51,
     "metadata": {},
     "output_type": "execute_result"
    }
   ],
   "source": [
    "df_train['APPLICATION TYPE'].value_counts()"
   ]
  },
  {
   "cell_type": "code",
   "execution_count": 52,
   "metadata": {},
   "outputs": [
    {
     "data": {
      "text/plain": [
       "ACCOUNT NUMBER                    0\n",
       "SITE NUMBER                       0\n",
       "CITY                              0\n",
       "STATE                             0\n",
       "ZIP CODE                          0\n",
       "WARD                              0\n",
       "PRECINCT                          0\n",
       "WARD PRECINCT                     0\n",
       "POLICE DISTRICT                   0\n",
       "LICENSE CODE                      0\n",
       "LICENSE DESCRIPTION               0\n",
       "LICENSE NUMBER                    0\n",
       "APPLICATION TYPE                  0\n",
       "CONDITIONAL APPROVAL              0\n",
       "LATITUDE                          0\n",
       "LONGITUDE                         0\n",
       "LICENSE STATUS                    0\n",
       "PAYMENT YEAR                      0\n",
       "REQUIREMENTS COMPLETION YEAR    214\n",
       "ISSUED YEAR                       0\n",
       "LICENSE APPROVED YEAR             0\n",
       "LICENSE STATUS CHANGE YEAR        0\n",
       "PAYMENT MONTH                     0\n",
       "LICENSE VALIDITY                  0\n",
       "LEGAL TYPE                        0\n",
       "dtype: int64"
      ]
     },
     "execution_count": 52,
     "metadata": {},
     "output_type": "execute_result"
    }
   ],
   "source": [
    "#Finding the null values left if any\n",
    "df_train.isna().sum()"
   ]
  },
  {
   "cell_type": "code",
   "execution_count": 53,
   "metadata": {},
   "outputs": [],
   "source": [
    "#Filling the null values, if still left any with the most frequent ocurring value from the column:\n",
    "\n",
    "df_train = df_train.apply(lambda x:x.fillna(x.value_counts().index[0]))\n",
    "df_test=df_test.apply(lambda x:x.fillna(x.value_counts().index[0]))"
   ]
  },
  {
   "cell_type": "code",
   "execution_count": 54,
   "metadata": {},
   "outputs": [],
   "source": [
    "#Function to Label encoding all the non numerical data:\n",
    "\n",
    "le = LabelEncoder()\n",
    "\n",
    "def label_encode(df):\n",
    "    for i in df.columns:\n",
    "        if df[i].dtypes=='object':\n",
    "            try:\n",
    "                df[i]=le.fit_transform(df[i])\n",
    "                df[i] = df[i].astype(int)\n",
    "            except Exception as e:\n",
    "                print(e)\n",
    "    return df\n",
    "              \n"
   ]
  },
  {
   "cell_type": "code",
   "execution_count": 55,
   "metadata": {},
   "outputs": [
    {
     "name": "stdout",
     "output_type": "stream",
     "text": [
      "Encoders require their input to be uniformly strings or numbers. Got ['float', 'str']\n",
      "Encoders require their input to be uniformly strings or numbers. Got ['int', 'str']\n",
      "Encoders require their input to be uniformly strings or numbers. Got ['float', 'str']\n",
      "Encoders require their input to be uniformly strings or numbers. Got ['int', 'str']\n"
     ]
    }
   ],
   "source": [
    "#Label encoding training and testing data:\n",
    "df_train = label_encode(df_train)\n",
    "df_test= label_encode(df_test)"
   ]
  },
  {
   "cell_type": "code",
   "execution_count": 56,
   "metadata": {},
   "outputs": [],
   "source": [
    "#Converting ZIP CODE and WARD PRECINCT into string:\n",
    "encoder = LabelEncoder()\n",
    "df_train[\"WARD PRECINCT\"] = encoder.fit_transform(df_train[\"WARD PRECINCT\"].astype(str))\n",
    "df_test[\"WARD PRECINCT\"] = encoder.fit_transform(df_test[\"WARD PRECINCT\"].astype(str))\n",
    "\n",
    "encoder = LabelEncoder()\n",
    "df_train[\"ZIP CODE\"] = encoder.fit_transform(df_train[\"ZIP CODE\"].astype(str))\n",
    "df_test[\"ZIP CODE\"] = encoder.fit_transform(df_test[\"ZIP CODE\"].astype(str))"
   ]
  },
  {
   "cell_type": "code",
   "execution_count": 57,
   "metadata": {},
   "outputs": [],
   "source": [
    "#Label encoding training and testing data:\n",
    "df_train = label_encode(df_train)\n",
    "df_test= label_encode(df_test)"
   ]
  },
  {
   "cell_type": "code",
   "execution_count": 58,
   "metadata": {},
   "outputs": [
    {
     "data": {
      "text/plain": [
       "0    55400\n",
       "1    30200\n",
       "2      290\n",
       "3        3\n",
       "4        2\n",
       "Name: LICENSE STATUS, dtype: int64"
      ]
     },
     "execution_count": 58,
     "metadata": {},
     "output_type": "execute_result"
    }
   ],
   "source": [
    "df_train['LICENSE STATUS'].value_counts()"
   ]
  },
  {
   "cell_type": "code",
   "execution_count": 59,
   "metadata": {},
   "outputs": [],
   "source": [
    "#As the target variable is not balanced, to avoid biasing the model need to be traibed with a balanced data set."
   ]
  },
  {
   "cell_type": "code",
   "execution_count": 60,
   "metadata": {},
   "outputs": [],
   "source": [
    "#Copying the data set:\n",
    "train_data= df_train\n",
    "test_data=df_test"
   ]
  },
  {
   "cell_type": "code",
   "execution_count": 61,
   "metadata": {},
   "outputs": [],
   "source": [
    "#Balancing the data set by normalizing the target variable\n",
    "\n",
    "#Shuffling the rows:\n",
    "df_train=df_train.sample(frac=1)\n",
    "AAI_df = df_train.loc[df_train['LICENSE STATUS'] == 1][:290]\n",
    "AAC_df = df_train.loc[df_train['LICENSE STATUS'] == 0][:300]\n",
    "\n",
    "\n"
   ]
  },
  {
   "cell_type": "code",
   "execution_count": 62,
   "metadata": {},
   "outputs": [],
   "source": [
    "\n",
    "df_train.drop(df_train[df_train['LICENSE STATUS']==1].index, inplace=True,)\n",
    "df_train.drop(df_train[df_train['LICENSE STATUS']==0].index, inplace=True,)"
   ]
  },
  {
   "cell_type": "code",
   "execution_count": 63,
   "metadata": {},
   "outputs": [],
   "source": [
    "training_data=pd.concat([df_train,AAI_df,AAC_df])\n",
    "training_data=training_data.sample(frac=1, replace=False, random_state=40)"
   ]
  },
  {
   "cell_type": "code",
   "execution_count": 64,
   "metadata": {},
   "outputs": [
    {
     "data": {
      "text/html": [
       "<div>\n",
       "<style scoped>\n",
       "    .dataframe tbody tr th:only-of-type {\n",
       "        vertical-align: middle;\n",
       "    }\n",
       "\n",
       "    .dataframe tbody tr th {\n",
       "        vertical-align: top;\n",
       "    }\n",
       "\n",
       "    .dataframe thead th {\n",
       "        text-align: right;\n",
       "    }\n",
       "</style>\n",
       "<table border=\"1\" class=\"dataframe\">\n",
       "  <thead>\n",
       "    <tr style=\"text-align: right;\">\n",
       "      <th></th>\n",
       "      <th>ACCOUNT NUMBER</th>\n",
       "      <th>SITE NUMBER</th>\n",
       "      <th>CITY</th>\n",
       "      <th>STATE</th>\n",
       "      <th>ZIP CODE</th>\n",
       "      <th>WARD</th>\n",
       "      <th>PRECINCT</th>\n",
       "      <th>WARD PRECINCT</th>\n",
       "      <th>POLICE DISTRICT</th>\n",
       "      <th>LICENSE CODE</th>\n",
       "      <th>...</th>\n",
       "      <th>LONGITUDE</th>\n",
       "      <th>LICENSE STATUS</th>\n",
       "      <th>PAYMENT YEAR</th>\n",
       "      <th>REQUIREMENTS COMPLETION YEAR</th>\n",
       "      <th>ISSUED YEAR</th>\n",
       "      <th>LICENSE APPROVED YEAR</th>\n",
       "      <th>LICENSE STATUS CHANGE YEAR</th>\n",
       "      <th>PAYMENT MONTH</th>\n",
       "      <th>LICENSE VALIDITY</th>\n",
       "      <th>LEGAL TYPE</th>\n",
       "    </tr>\n",
       "  </thead>\n",
       "  <tbody>\n",
       "    <tr>\n",
       "      <th>65177</th>\n",
       "      <td>269272</td>\n",
       "      <td>1</td>\n",
       "      <td>827</td>\n",
       "      <td>16</td>\n",
       "      <td>1372</td>\n",
       "      <td>0.0</td>\n",
       "      <td>0.0</td>\n",
       "      <td>1</td>\n",
       "      <td>0.0</td>\n",
       "      <td>1010</td>\n",
       "      <td>...</td>\n",
       "      <td>-87.681165</td>\n",
       "      <td>0</td>\n",
       "      <td>2004.0</td>\n",
       "      <td>2003.0</td>\n",
       "      <td>2004</td>\n",
       "      <td>2003.0</td>\n",
       "      <td>2009.299885</td>\n",
       "      <td>2.0</td>\n",
       "      <td>1.0</td>\n",
       "      <td>4</td>\n",
       "    </tr>\n",
       "    <tr>\n",
       "      <th>47822</th>\n",
       "      <td>351157</td>\n",
       "      <td>1</td>\n",
       "      <td>193</td>\n",
       "      <td>16</td>\n",
       "      <td>1605</td>\n",
       "      <td>8.0</td>\n",
       "      <td>23.0</td>\n",
       "      <td>2278</td>\n",
       "      <td>4.0</td>\n",
       "      <td>1006</td>\n",
       "      <td>...</td>\n",
       "      <td>-87.577438</td>\n",
       "      <td>2</td>\n",
       "      <td>2010.0</td>\n",
       "      <td>2010.0</td>\n",
       "      <td>2010</td>\n",
       "      <td>2010.0</td>\n",
       "      <td>2012.000000</td>\n",
       "      <td>10.0</td>\n",
       "      <td>2.0</td>\n",
       "      <td>1</td>\n",
       "    </tr>\n",
       "    <tr>\n",
       "      <th>84549</th>\n",
       "      <td>289848</td>\n",
       "      <td>1</td>\n",
       "      <td>1019</td>\n",
       "      <td>16</td>\n",
       "      <td>1390</td>\n",
       "      <td>0.0</td>\n",
       "      <td>0.0</td>\n",
       "      <td>1</td>\n",
       "      <td>0.0</td>\n",
       "      <td>1010</td>\n",
       "      <td>...</td>\n",
       "      <td>-87.681165</td>\n",
       "      <td>0</td>\n",
       "      <td>2014.0</td>\n",
       "      <td>2014.0</td>\n",
       "      <td>2014</td>\n",
       "      <td>2014.0</td>\n",
       "      <td>2009.299885</td>\n",
       "      <td>3.0</td>\n",
       "      <td>2.0</td>\n",
       "      <td>1</td>\n",
       "    </tr>\n",
       "    <tr>\n",
       "      <th>83180</th>\n",
       "      <td>54</td>\n",
       "      <td>3</td>\n",
       "      <td>701</td>\n",
       "      <td>16</td>\n",
       "      <td>1729</td>\n",
       "      <td>0.0</td>\n",
       "      <td>0.0</td>\n",
       "      <td>1</td>\n",
       "      <td>0.0</td>\n",
       "      <td>1010</td>\n",
       "      <td>...</td>\n",
       "      <td>-87.681165</td>\n",
       "      <td>0</td>\n",
       "      <td>2009.0</td>\n",
       "      <td>2009.0</td>\n",
       "      <td>2011</td>\n",
       "      <td>2009.0</td>\n",
       "      <td>2009.299885</td>\n",
       "      <td>4.0</td>\n",
       "      <td>2.0</td>\n",
       "      <td>1</td>\n",
       "    </tr>\n",
       "    <tr>\n",
       "      <th>6639</th>\n",
       "      <td>372079</td>\n",
       "      <td>1</td>\n",
       "      <td>193</td>\n",
       "      <td>16</td>\n",
       "      <td>1553</td>\n",
       "      <td>17.0</td>\n",
       "      <td>0.0</td>\n",
       "      <td>339</td>\n",
       "      <td>0.0</td>\n",
       "      <td>1010</td>\n",
       "      <td>...</td>\n",
       "      <td>-87.663624</td>\n",
       "      <td>2</td>\n",
       "      <td>2014.0</td>\n",
       "      <td>2014.0</td>\n",
       "      <td>2014</td>\n",
       "      <td>2014.0</td>\n",
       "      <td>2015.000000</td>\n",
       "      <td>5.0</td>\n",
       "      <td>2.0</td>\n",
       "      <td>4</td>\n",
       "    </tr>\n",
       "    <tr>\n",
       "      <th>46179</th>\n",
       "      <td>327878</td>\n",
       "      <td>1</td>\n",
       "      <td>193</td>\n",
       "      <td>16</td>\n",
       "      <td>1591</td>\n",
       "      <td>45.0</td>\n",
       "      <td>31.0</td>\n",
       "      <td>1851</td>\n",
       "      <td>17.0</td>\n",
       "      <td>1524</td>\n",
       "      <td>...</td>\n",
       "      <td>-87.745938</td>\n",
       "      <td>2</td>\n",
       "      <td>2009.0</td>\n",
       "      <td>2009.0</td>\n",
       "      <td>2009</td>\n",
       "      <td>2009.0</td>\n",
       "      <td>2010.000000</td>\n",
       "      <td>7.0</td>\n",
       "      <td>2.0</td>\n",
       "      <td>4</td>\n",
       "    </tr>\n",
       "    <tr>\n",
       "      <th>48729</th>\n",
       "      <td>51768</td>\n",
       "      <td>1</td>\n",
       "      <td>328</td>\n",
       "      <td>16</td>\n",
       "      <td>1659</td>\n",
       "      <td>0.0</td>\n",
       "      <td>0.0</td>\n",
       "      <td>1</td>\n",
       "      <td>0.0</td>\n",
       "      <td>1010</td>\n",
       "      <td>...</td>\n",
       "      <td>-87.681165</td>\n",
       "      <td>0</td>\n",
       "      <td>2002.0</td>\n",
       "      <td>2002.0</td>\n",
       "      <td>2002</td>\n",
       "      <td>2002.0</td>\n",
       "      <td>2009.299885</td>\n",
       "      <td>11.0</td>\n",
       "      <td>1.0</td>\n",
       "      <td>0</td>\n",
       "    </tr>\n",
       "    <tr>\n",
       "      <th>85172</th>\n",
       "      <td>301218</td>\n",
       "      <td>1</td>\n",
       "      <td>193</td>\n",
       "      <td>16</td>\n",
       "      <td>1563</td>\n",
       "      <td>35.0</td>\n",
       "      <td>12.0</td>\n",
       "      <td>1315</td>\n",
       "      <td>17.0</td>\n",
       "      <td>1010</td>\n",
       "      <td>...</td>\n",
       "      <td>-87.720167</td>\n",
       "      <td>1</td>\n",
       "      <td>2007.0</td>\n",
       "      <td>2007.0</td>\n",
       "      <td>2007</td>\n",
       "      <td>2007.0</td>\n",
       "      <td>2008.000000</td>\n",
       "      <td>10.0</td>\n",
       "      <td>2.0</td>\n",
       "      <td>4</td>\n",
       "    </tr>\n",
       "    <tr>\n",
       "      <th>40677</th>\n",
       "      <td>296300</td>\n",
       "      <td>1</td>\n",
       "      <td>193</td>\n",
       "      <td>16</td>\n",
       "      <td>1609</td>\n",
       "      <td>37.0</td>\n",
       "      <td>13.0</td>\n",
       "      <td>1383</td>\n",
       "      <td>11.0</td>\n",
       "      <td>1006</td>\n",
       "      <td>...</td>\n",
       "      <td>-87.726290</td>\n",
       "      <td>1</td>\n",
       "      <td>2011.0</td>\n",
       "      <td>2011.0</td>\n",
       "      <td>2011</td>\n",
       "      <td>2011.0</td>\n",
       "      <td>2012.000000</td>\n",
       "      <td>11.0</td>\n",
       "      <td>2.0</td>\n",
       "      <td>1</td>\n",
       "    </tr>\n",
       "    <tr>\n",
       "      <th>9347</th>\n",
       "      <td>4280</td>\n",
       "      <td>1</td>\n",
       "      <td>193</td>\n",
       "      <td>16</td>\n",
       "      <td>1541</td>\n",
       "      <td>43.0</td>\n",
       "      <td>55.0</td>\n",
       "      <td>1766</td>\n",
       "      <td>18.0</td>\n",
       "      <td>1475</td>\n",
       "      <td>...</td>\n",
       "      <td>-87.648465</td>\n",
       "      <td>1</td>\n",
       "      <td>2002.0</td>\n",
       "      <td>2002.0</td>\n",
       "      <td>2002</td>\n",
       "      <td>2002.0</td>\n",
       "      <td>2008.000000</td>\n",
       "      <td>5.0</td>\n",
       "      <td>0.0</td>\n",
       "      <td>0</td>\n",
       "    </tr>\n",
       "  </tbody>\n",
       "</table>\n",
       "<p>10 rows × 25 columns</p>\n",
       "</div>"
      ],
      "text/plain": [
       "       ACCOUNT NUMBER  SITE NUMBER  CITY  STATE  ZIP CODE  WARD  PRECINCT  \\\n",
       "65177          269272            1   827     16      1372   0.0       0.0   \n",
       "47822          351157            1   193     16      1605   8.0      23.0   \n",
       "84549          289848            1  1019     16      1390   0.0       0.0   \n",
       "83180              54            3   701     16      1729   0.0       0.0   \n",
       "6639           372079            1   193     16      1553  17.0       0.0   \n",
       "46179          327878            1   193     16      1591  45.0      31.0   \n",
       "48729           51768            1   328     16      1659   0.0       0.0   \n",
       "85172          301218            1   193     16      1563  35.0      12.0   \n",
       "40677          296300            1   193     16      1609  37.0      13.0   \n",
       "9347             4280            1   193     16      1541  43.0      55.0   \n",
       "\n",
       "       WARD PRECINCT  POLICE DISTRICT  LICENSE CODE  ...  LONGITUDE  \\\n",
       "65177              1              0.0          1010  ... -87.681165   \n",
       "47822           2278              4.0          1006  ... -87.577438   \n",
       "84549              1              0.0          1010  ... -87.681165   \n",
       "83180              1              0.0          1010  ... -87.681165   \n",
       "6639             339              0.0          1010  ... -87.663624   \n",
       "46179           1851             17.0          1524  ... -87.745938   \n",
       "48729              1              0.0          1010  ... -87.681165   \n",
       "85172           1315             17.0          1010  ... -87.720167   \n",
       "40677           1383             11.0          1006  ... -87.726290   \n",
       "9347            1766             18.0          1475  ... -87.648465   \n",
       "\n",
       "       LICENSE STATUS  PAYMENT YEAR  REQUIREMENTS COMPLETION YEAR  \\\n",
       "65177               0        2004.0                        2003.0   \n",
       "47822               2        2010.0                        2010.0   \n",
       "84549               0        2014.0                        2014.0   \n",
       "83180               0        2009.0                        2009.0   \n",
       "6639                2        2014.0                        2014.0   \n",
       "46179               2        2009.0                        2009.0   \n",
       "48729               0        2002.0                        2002.0   \n",
       "85172               1        2007.0                        2007.0   \n",
       "40677               1        2011.0                        2011.0   \n",
       "9347                1        2002.0                        2002.0   \n",
       "\n",
       "       ISSUED YEAR  LICENSE APPROVED YEAR  LICENSE STATUS CHANGE YEAR  \\\n",
       "65177         2004                 2003.0                 2009.299885   \n",
       "47822         2010                 2010.0                 2012.000000   \n",
       "84549         2014                 2014.0                 2009.299885   \n",
       "83180         2011                 2009.0                 2009.299885   \n",
       "6639          2014                 2014.0                 2015.000000   \n",
       "46179         2009                 2009.0                 2010.000000   \n",
       "48729         2002                 2002.0                 2009.299885   \n",
       "85172         2007                 2007.0                 2008.000000   \n",
       "40677         2011                 2011.0                 2012.000000   \n",
       "9347          2002                 2002.0                 2008.000000   \n",
       "\n",
       "       PAYMENT MONTH  LICENSE VALIDITY  LEGAL TYPE  \n",
       "65177            2.0               1.0           4  \n",
       "47822           10.0               2.0           1  \n",
       "84549            3.0               2.0           1  \n",
       "83180            4.0               2.0           1  \n",
       "6639             5.0               2.0           4  \n",
       "46179            7.0               2.0           4  \n",
       "48729           11.0               1.0           0  \n",
       "85172           10.0               2.0           4  \n",
       "40677           11.0               2.0           1  \n",
       "9347             5.0               0.0           0  \n",
       "\n",
       "[10 rows x 25 columns]"
      ]
     },
     "execution_count": 64,
     "metadata": {},
     "output_type": "execute_result"
    }
   ],
   "source": [
    "training_data.head(10)"
   ]
  },
  {
   "cell_type": "code",
   "execution_count": 65,
   "metadata": {},
   "outputs": [
    {
     "data": {
      "text/plain": [
       "0    300\n",
       "2    290\n",
       "1    290\n",
       "3      3\n",
       "4      2\n",
       "Name: LICENSE STATUS, dtype: int64"
      ]
     },
     "execution_count": 65,
     "metadata": {},
     "output_type": "execute_result"
    }
   ],
   "source": [
    "training_data['LICENSE STATUS'].value_counts()"
   ]
  },
  {
   "cell_type": "code",
   "execution_count": 66,
   "metadata": {},
   "outputs": [
    {
     "data": {
      "image/png": "[encoded data removed]",
      "text/plain": [
       "<Figure size 1440x1440 with 2 Axes>"
      ]
     },
     "metadata": {
      "needs_background": "light"
     },
     "output_type": "display_data"
    }
   ],
   "source": [
    "#Finding the correlation with the target variable:\n",
    "\n",
    "correlation = training_data.corr()\n",
    "plt.figure(figsize=(20,20))\n",
    "sns.heatmap(correlation, cbar=True, square= True, fmt='.1f', annot=True, annot_kws={'size':20}, cmap='Purples')\n",
    "plt.title('Correlation Matrix', fontsize=15)\n",
    "plt.show()"
   ]
  },
  {
   "cell_type": "code",
   "execution_count": 67,
   "metadata": {},
   "outputs": [],
   "source": [
    "#As years are higly correlated (0.8) with each other, keeping only one of them and dropping others:\n",
    "drop_list = ['PAYMENT YEAR', 'REQUIREMENTS COMPLETION YEAR', 'LICENSE APPROVED YEAR']\n",
    "training_data = training_data.drop(drop_list, axis=1)\n",
    "df_test = df_test.drop(drop_list, axis=1)"
   ]
  },
  {
   "cell_type": "code",
   "execution_count": 68,
   "metadata": {},
   "outputs": [],
   "source": [
    "#Splitting the data\n",
    "X = training_data.drop('LICENSE STATUS', axis=1)\n",
    "Y = training_data['LICENSE STATUS']"
   ]
  },
  {
   "cell_type": "code",
   "execution_count": 69,
   "metadata": {},
   "outputs": [],
   "source": [
    "#As the model has to be judged on confusion matrix and F1 score\n",
    "from sklearn.metrics import confusion_matrix\n",
    "def conf_matrix(actual, predicted):\n",
    "    cm = confusion_matrix( actual, predicted, [1,0]).T\n",
    "    sns.heatmap(cm, annot=True,  fmt='.2f', xticklabels = [\"Yes\",\"No\"] , yticklabels = [\"Yes\",\"No\"] )\n",
    "    plt.ylabel('Predicted_Value')\n",
    "    plt.xlabel('Actual_Value')\n",
    "    plt.show()"
   ]
  },
  {
   "cell_type": "code",
   "execution_count": 70,
   "metadata": {},
   "outputs": [],
   "source": [
    "X_train, X_test, Y_train, Y_test = train_test_split(X,Y, test_size = 0.25, random_state = 42)"
   ]
  },
  {
   "cell_type": "code",
   "execution_count": 71,
   "metadata": {},
   "outputs": [
    {
     "name": "stderr",
     "output_type": "stream",
     "text": [
      "C:\\Users\\HP\\anaconda3\\lib\\site-packages\\sklearn\\model_selection\\_split.py:670: UserWarning: The least populated class in y has only 1 members, which is less than n_splits=5.\n",
      "  warnings.warn((\"The least populated class in y has only %d\"\n"
     ]
    },
    {
     "data": {
      "text/plain": [
       "DecisionTreeClassifier(criterion='entropy', max_depth=50, max_features='log2',\n",
       "                       min_samples_split=5)"
      ]
     },
     "execution_count": 71,
     "metadata": {},
     "output_type": "execute_result"
    }
   ],
   "source": [
    "# Decision Tree Classifier\n",
    "\n",
    "from sklearn.tree import DecisionTreeClassifier\n",
    "clf = DecisionTreeClassifier()\n",
    "\n",
    "# Hyperparameter Optimization\n",
    "parameters_to_tune = [{'max_features': ['log2', 'sqrt','auto'], \n",
    "              'criterion': ['entropy', 'gini'],\n",
    "              'max_depth': [2, 3, 5, 20, 50], \n",
    "              'min_samples_split': [2, 5, 50, 100],\n",
    "              'min_samples_leaf': [1, 5, 7, 10]\n",
    "             }]\n",
    "# Grid Search\n",
    "grid_cv = GridSearchCV(clf, parameters_to_tune)\n",
    "grid_search = grid_cv.fit(X_train, Y_train)\n",
    "clf = grid_search.best_estimator_\n",
    "\n",
    "# Training the model\n",
    "clf.fit(X_train, Y_train)\n"
   ]
  },
  {
   "cell_type": "code",
   "execution_count": 72,
   "metadata": {},
   "outputs": [],
   "source": [
    "Y_pred = clf.predict(X_test)"
   ]
  },
  {
   "cell_type": "code",
   "execution_count": 73,
   "metadata": {},
   "outputs": [
    {
     "name": "stderr",
     "output_type": "stream",
     "text": [
      "C:\\Users\\HP\\anaconda3\\lib\\site-packages\\sklearn\\utils\\validation.py:67: FutureWarning: Pass labels=[1, 0] as keyword args. From version 0.25 passing these as positional arguments will result in an error\n",
      "  warnings.warn(\"Pass {} as keyword args. From version 0.25 \"\n"
     ]
    },
    {
     "data": {
      "image/png": "[encoded data removed]",
      "text/plain": [
       "<Figure size 432x288 with 2 Axes>"
      ]
     },
     "metadata": {
      "needs_background": "light"
     },
     "output_type": "display_data"
    }
   ],
   "source": [
    "\n",
    "# Confusion matrix for decision tree classifier\n",
    "conf_matrix(Y_test, Y_pred)"
   ]
  },
  {
   "cell_type": "code",
   "execution_count": 74,
   "metadata": {},
   "outputs": [
    {
     "name": "stdout",
     "output_type": "stream",
     "text": [
      "Total Accuracy :  81.53\n"
     ]
    }
   ],
   "source": [
    "acc_dt = round( metrics.accuracy_score(Y_test, Y_pred) * 100, 2 )\n",
    "print( 'Total Accuracy : ', acc_dt )"
   ]
  },
  {
   "cell_type": "code",
   "execution_count": 99,
   "metadata": {},
   "outputs": [
    {
     "name": "stderr",
     "output_type": "stream",
     "text": [
      "C:\\Users\\HP\\anaconda3\\lib\\site-packages\\xgboost\\sklearn.py:1224: UserWarning: The use of label encoder in XGBClassifier is deprecated and will be removed in a future release. To remove this warning, do the following: 1) Pass option use_label_encoder=False when constructing XGBClassifier object; and 2) Encode your labels (y) as integers starting with 0, i.e. 0, 1, 2, ..., [num_class - 1].\n",
      "  warnings.warn(label_encoder_deprecation_msg, UserWarning)\n"
     ]
    },
    {
     "name": "stdout",
     "output_type": "stream",
     "text": [
      "[05:58:40] WARNING: C:/Users/Administrator/workspace/xgboost-win64_release_1.5.0/src/learner.cc:576: \n",
      "Parameters: { \"scale_pos_weight\", \"silent\" } might not be used.\n",
      "\n",
      "  This could be a false alarm, with some parameters getting used by language bindings but\n",
      "  then being mistakenly passed down to XGBoost core, or some parameter actually being used\n",
      "  but getting flagged wrongly here. Please open an issue if you find any such cases.\n",
      "\n",
      "\n",
      "[05:58:40] WARNING: C:/Users/Administrator/workspace/xgboost-win64_release_1.5.0/src/learner.cc:1115: Starting in XGBoost 1.3.0, the default evaluation metric used with the objective 'multi:softprob' was changed from 'merror' to 'mlogloss'. Explicitly set eval_metric if you'd like to restore the old behavior.\n"
     ]
    },
    {
     "data": {
      "text/plain": [
       "XGBClassifier(base_score=0.5, booster='gbtree', colsample_bylevel=1,\n",
       "              colsample_bynode=1, colsample_bytree=1, enable_categorical=False,\n",
       "              gamma=0, gpu_id=-1, importance_type=None,\n",
       "              interaction_constraints='', learning_rate=0.02, max_delta_step=0,\n",
       "              max_depth=4, min_child_weight=1, missing=nan,\n",
       "              monotone_constraints='()', n_estimators=1000, n_jobs=1, nthread=1,\n",
       "              num_class=5, num_parallel_tree=1, objective='multi:softprob',\n",
       "              predictor='auto', random_state=0, reg_alpha=0, reg_lambda=1,\n",
       "              scale_pos_weight=1, silent=True, subsample=1, tree_method='exact', ...)"
      ]
     },
     "execution_count": 99,
     "metadata": {},
     "output_type": "execute_result"
    }
   ],
   "source": [
    "from xgboost import XGBClassifier\n",
    "\n",
    "\n",
    "gbm = XGBClassifier(learning_rate=0.02,scale_pos_weight=1, n_estimators=1000, objective='multi:softmax', silent=True, nthread=1, num_class=5,max_depth=4)\n",
    "\n",
    "\n",
    "# Train the model using the training sets\n",
    "gbm.fit(X_train, Y_train)"
   ]
  },
  {
   "cell_type": "code",
   "execution_count": 100,
   "metadata": {},
   "outputs": [],
   "source": [
    "# Prediction on test data\n",
    "Y_pred = gbm.predict(X_test)"
   ]
  },
  {
   "cell_type": "code",
   "execution_count": 101,
   "metadata": {},
   "outputs": [
    {
     "name": "stdout",
     "output_type": "stream",
     "text": [
      "Total Accuracy :  91.89\n"
     ]
    }
   ],
   "source": [
    "# Calculating the accuracy, precision and the recall\n",
    "acc_xgb = round( metrics.accuracy_score(Y_test, Y_pred) * 100 , 2 )\n",
    "print( 'Total Accuracy : ', acc_xgb )"
   ]
  },
  {
   "cell_type": "code",
   "execution_count": 102,
   "metadata": {},
   "outputs": [
    {
     "name": "stderr",
     "output_type": "stream",
     "text": [
      "C:\\Users\\HP\\anaconda3\\lib\\site-packages\\sklearn\\utils\\validation.py:67: FutureWarning: Pass labels=[1, 0] as keyword args. From version 0.25 passing these as positional arguments will result in an error\n",
      "  warnings.warn(\"Pass {} as keyword args. From version 0.25 \"\n"
     ]
    },
    {
     "data": {
      "image/png": "[encoded data removed]",
      "text/plain": [
       "<Figure size 432x288 with 2 Axes>"
      ]
     },
     "metadata": {
      "needs_background": "light"
     },
     "output_type": "display_data"
    }
   ],
   "source": [
    "# Confusion matrix \n",
    "conf_matrix(Y_test, Y_pred)"
   ]
  },
  {
   "cell_type": "code",
   "execution_count": 103,
   "metadata": {},
   "outputs": [],
   "source": [
    "#Predicting the test data\n",
    "my_prediction = gbm.predict(df_test)"
   ]
  },
  {
   "cell_type": "code",
   "execution_count": 104,
   "metadata": {},
   "outputs": [
    {
     "data": {
      "text/plain": [
       "(57239, 2)"
      ]
     },
     "execution_count": 104,
     "metadata": {},
     "output_type": "execute_result"
    }
   ],
   "source": [
    "submission['LICENSE STATUS'] = my_prediction\n",
    "submission.shape"
   ]
  },
  {
   "cell_type": "code",
   "execution_count": 105,
   "metadata": {},
   "outputs": [],
   "source": [
    "submission['LICENSE STATUS'] = submission['LICENSE STATUS'].replace(0, 'AAI')\n",
    "submission['LICENSE STATUS'] = submission['LICENSE STATUS'].replace(1, 'AAC')\n",
    "submission['LICENSE STATUS'] = submission['LICENSE STATUS'].replace(2, 'REV')\n",
    "submission['LICENSE STATUS'] = submission['LICENSE STATUS'].replace(3, 'REA')\n",
    "submission['LICENSE STATUS'] = submission['LICENSE STATUS'].replace(4, 'INQ')"
   ]
  },
  {
   "cell_type": "code",
   "execution_count": 106,
   "metadata": {},
   "outputs": [
    {
     "data": {
      "text/html": [
       "<div>\n",
       "<style scoped>\n",
       "    .dataframe tbody tr th:only-of-type {\n",
       "        vertical-align: middle;\n",
       "    }\n",
       "\n",
       "    .dataframe tbody tr th {\n",
       "        vertical-align: top;\n",
       "    }\n",
       "\n",
       "    .dataframe thead th {\n",
       "        text-align: right;\n",
       "    }\n",
       "</style>\n",
       "<table border=\"1\" class=\"dataframe\">\n",
       "  <thead>\n",
       "    <tr style=\"text-align: right;\">\n",
       "      <th></th>\n",
       "      <th>ID</th>\n",
       "      <th>LICENSE STATUS</th>\n",
       "    </tr>\n",
       "  </thead>\n",
       "  <tbody>\n",
       "    <tr>\n",
       "      <th>0</th>\n",
       "      <td>1516615-20120216</td>\n",
       "      <td>REV</td>\n",
       "    </tr>\n",
       "    <tr>\n",
       "      <th>1</th>\n",
       "      <td>69813-20110616</td>\n",
       "      <td>AAC</td>\n",
       "    </tr>\n",
       "    <tr>\n",
       "      <th>2</th>\n",
       "      <td>1519227-20041116</td>\n",
       "      <td>AAC</td>\n",
       "    </tr>\n",
       "    <tr>\n",
       "      <th>3</th>\n",
       "      <td>1922025-20100816</td>\n",
       "      <td>AAC</td>\n",
       "    </tr>\n",
       "    <tr>\n",
       "      <th>4</th>\n",
       "      <td>1675683-20070816</td>\n",
       "      <td>AAC</td>\n",
       "    </tr>\n",
       "  </tbody>\n",
       "</table>\n",
       "</div>"
      ],
      "text/plain": [
       "                 ID LICENSE STATUS\n",
       "0  1516615-20120216            REV\n",
       "1    69813-20110616            AAC\n",
       "2  1519227-20041116            AAC\n",
       "3  1922025-20100816            AAC\n",
       "4  1675683-20070816            AAC"
      ]
     },
     "execution_count": 106,
     "metadata": {},
     "output_type": "execute_result"
    }
   ],
   "source": [
    "submission.head()"
   ]
  },
  {
   "cell_type": "code",
   "execution_count": 107,
   "metadata": {},
   "outputs": [],
   "source": [
    "submission.to_csv('C:\\\\Users\\\\HP\\\\Downloads\\\\sample_submission.csv', index=False)"
   ]
  },
  {
   "cell_type": "code",
   "execution_count": null,
   "metadata": {},
   "outputs": [],
   "source": []
  }
 ],
 "metadata": {
  "kernelspec": {
   "display_name": "Python 3",
   "language": "python",
   "name": "python3"
  },
  "language_info": {
   "codemirror_mode": {
    "name": "ipython",
    "version": 3
   },
   "file_extension": ".py",
   "mimetype": "text/x-python",
   "name": "python",
   "nbconvert_exporter": "python",
   "pygments_lexer": "ipython3",
   "version": "3.8.5"
  }
 },
 "nbformat": 4,
 "nbformat_minor": 4
}
